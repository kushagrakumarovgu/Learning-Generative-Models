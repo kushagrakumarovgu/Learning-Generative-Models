{
  "cells": [
    {
      "cell_type": "markdown",
      "metadata": {},
      "source": [
        "Problem statement: https://ovgu-ailab.github.io/lgm2021/ass9.html"
      ]
    },
    {
      "cell_type": "code",
      "execution_count": 1,
      "metadata": {
        "id": "tWwPmPJ7peMf"
      },
      "outputs": [],
      "source": [
        "import tensorflow as tf\n",
        "from tensorflow import keras\n",
        "from tensorflow.keras.models import Sequential\n",
        "from tensorflow.keras.optimizers import Adam\n",
        "from tensorflow.keras.metrics import categorical_crossentropy\n",
        "import numpy as np\n",
        "import matplotlib.pyplot as plt\n",
        "import tensorflow_probability as tfp\n",
        "from tensorflow.python.keras.layers.convolutional import Conv"
      ]
    },
    {
      "cell_type": "code",
      "execution_count": 2,
      "metadata": {
        "colab": {
          "base_uri": "https://localhost:8080/"
        },
        "id": "IB_65c5brWa_",
        "outputId": "e76009d8-960c-4e80-a4b9-9e2b0639bacd"
      },
      "outputs": [
        {
          "name": "stdout",
          "output_type": "stream",
          "text": [
            "Number of GPUs Available:  1\n"
          ]
        }
      ],
      "source": [
        "physical_devices = tf.config.experimental.list_physical_devices('GPU')\n",
        "print(\"Number of GPUs Available: \",len(physical_devices))\n",
        "tf.config.experimental.set_memory_growth(physical_devices[0],True)"
      ]
    },
    {
      "cell_type": "code",
      "execution_count": 3,
      "metadata": {
        "colab": {
          "base_uri": "https://localhost:8080/",
          "height": 369
        },
        "id": "jtAa8Wo6rcrl",
        "outputId": "c79ac06b-2f9c-4972-e324-00c8ac4afadd"
      },
      "outputs": [
        {
          "name": "stdout",
          "output_type": "stream",
          "text": [
            "Downloading data from https://storage.googleapis.com/tensorflow/tf-keras-datasets/mnist.npz\n",
            "11493376/11490434 [==============================] - 0s 0us/step\n",
            "(60000, 28, 28)\n",
            "(60000,)\n",
            "train_images[0] shape:  (28, 28)\n"
          ]
        },
        {
          "data": {
            "text/plain": [
              "<matplotlib.image.AxesImage at 0x7f22c0bce950>"
            ]
          },
          "execution_count": 3,
          "metadata": {
            "tags": []
          },
          "output_type": "execute_result"
        },
        {
          "data": {
            "image/png": "[encoded data removed]",
            "text/plain": [
              "<Figure size 432x288 with 1 Axes>"
            ]
          },
          "metadata": {
            "needs_background": "light",
            "tags": []
          },
          "output_type": "display_data"
        }
      ],
      "source": [
        "# Load MNIST Data set.\n",
        "mnist = tf.keras.datasets.mnist\n",
        "(train_images, train_labels), (test_images, test_labels) = mnist.load_data()\n",
        "\n",
        "print(train_images.shape)\n",
        "print(train_labels.shape)\n",
        "print(\"train_images[0] shape: \",train_images[0].shape)\n",
        "#show the first image.\n",
        "plt.imshow(train_images[0])"
      ]
    },
    {
      "cell_type": "code",
      "execution_count": 4,
      "metadata": {
        "id": "vIkRPlKTrjt3"
      },
      "outputs": [],
      "source": [
        "def reshape_img(data):\n",
        "  nsamples , nx , ny = data.shape\n",
        "  return data.reshape(data.shape[0], nx, ny,1).astype(np.float32) / 255.0"
      ]
    },
    {
      "cell_type": "code",
      "execution_count": 5,
      "metadata": {
        "colab": {
          "base_uri": "https://localhost:8080/"
        },
        "id": "ePrKDVQyvwKG",
        "outputId": "fc3cd35c-4dac-4900-ce74-a6283c82f4c5"
      },
      "outputs": [
        {
          "name": "stdout",
          "output_type": "stream",
          "text": [
            "(60000, 28, 28, 1)\n",
            "(10000, 28, 28, 1)\n"
          ]
        }
      ],
      "source": [
        "train_img = reshape_img(train_images)\n",
        "test_img = reshape_img(test_images)\n",
        "print(train_img.shape)\n",
        "#train_img = (train_img - 127.5) / 127.5  # Normalize the images to [-1, 1]\n",
        "train_data = tf.data.Dataset.from_tensor_slices(train_img.astype(np.float32))\n",
        "train_data = train_data.shuffle(buffer_size=60000).batch(128,drop_remainder=True)\n",
        "\n",
        "print(test_img.shape)"
      ]
    },
    {
      "cell_type": "code",
      "execution_count": 6,
      "metadata": {
        "id": "DLeTLzTW0P7c"
      },
      "outputs": [],
      "source": [
        "input_shape = (28, 28, 1)"
      ]
    },
    {
      "cell_type": "code",
      "execution_count": 7,
      "metadata": {
        "id": "TrIMt9eqroRP"
      },
      "outputs": [],
      "source": [
        "class MaskedConv2DTypeA(Conv):\n",
        "  def __init__(self,\n",
        "               filters,\n",
        "               kernel_size,\n",
        "               strides=1,\n",
        "               padding='valid',\n",
        "               data_format=None,\n",
        "               dilation_rate=1,\n",
        "               activation=None,\n",
        "               use_bias=True,\n",
        "               kernel_initializer='glorot_uniform',\n",
        "               bias_initializer='zeros',\n",
        "               kernel_regularizer=None,\n",
        "               bias_regularizer=None,\n",
        "               activity_regularizer=None,\n",
        "               kernel_constraint=None,\n",
        "               bias_constraint=None,\n",
        "               trainable=True,\n",
        "               name=None,\n",
        "               **kwargs):\n",
        "    super(MaskedConv2DTypeA, self).__init__( \n",
        "               2,\n",
        "               filters,\n",
        "               kernel_size,\n",
        "               strides=strides,\n",
        "               padding=padding,\n",
        "               data_format=data_format,\n",
        "               dilation_rate=dilation_rate,\n",
        "               activation=activation,\n",
        "               use_bias=use_bias,\n",
        "               kernel_initializer=kernel_initializer,\n",
        "               bias_initializer='zeros',\n",
        "               kernel_regularizer=None,\n",
        "               bias_regularizer=None,\n",
        "               activity_regularizer=None,\n",
        "               kernel_constraint=None,\n",
        "               bias_constraint=None,\n",
        "               trainable=True,\n",
        "               name=None,\n",
        "        **kwargs)\n",
        "    if not isinstance(kernel_size, int):\n",
        "        raise ValueError(\"Please specify kernel size as int\")\n",
        "    if kernel_size == 1:\n",
        "        raise ValueError(\"Kernel size must be >1\")\n",
        "    if not (kernel_size % 2):\n",
        "        raise ValueError(\"Odd kernel sizes only!\")\n",
        "        \n",
        "    self.mask = np.zeros([kernel_size, kernel_size, 1, 1], dtype=np.float32)\n",
        "    self.mask[:kernel_size//2, :, :, :] = 1\n",
        "    self.mask[kernel_size//2, :kernel_size//2, :, : ] = 1\n",
        "    self.mask = tf.convert_to_tensor(self.mask)\n",
        "    \n",
        "    \n",
        "  def call(self, inputs):\n",
        "    if self._recreate_conv_op(inputs):\n",
        "      self._convolution_op = tf.python.ops.nn_ops.Convolution(\n",
        "          inputs.get_shape(),\n",
        "          filter_shape=self.kernel.shape,\n",
        "          dilation_rate=self.dilation_rate,\n",
        "          strides=self.strides,\n",
        "          padding=self._padding_op,\n",
        "          data_format=self._conv_op_data_format)\n",
        "\n",
        "    # Apply causal padding to inputs for Conv1D.\n",
        "    if self.padding == 'causal' and self.__class__.__name__ == 'Conv1D':\n",
        "      inputs = tf.python.ops.array_ops.pad(inputs, self._compute_causal_padding())\n",
        "    \n",
        "    masked_kernel = self.mask * self.kernel\n",
        "    outputs = self._convolution_op(inputs, masked_kernel)\n",
        "\n",
        "    if self.use_bias:\n",
        "      if self.data_format == 'channels_first':\n",
        "        if self.rank == 1:\n",
        "          # nn.bias_add does not accept a 1D input tensor.\n",
        "          bias = tf.python.ops.array_ops.reshape(self.bias, (1, self.filters, 1))\n",
        "          outputs += bias\n",
        "        else:\n",
        "          outputs = tf.nn.bias_add(outputs, self.bias, data_format='NCHW')\n",
        "      else:\n",
        "        outputs = tf.nn.bias_add(outputs, self.bias, data_format='NHWC')\n",
        "\n",
        "    if self.activation is not None:\n",
        "      return self.activation(outputs)\n",
        "    return outputs"
      ]
    },
    {
      "cell_type": "code",
      "execution_count": 8,
      "metadata": {
        "id": "HJYxLw0utgpf"
      },
      "outputs": [],
      "source": [
        "# simple test whether it works without crashing\n",
        "a = tf.random.normal([4, 16, 16, 3])\n",
        "b = tf.keras.layers.Conv2D(32, 3, padding=\"same\")(a)\n",
        "c = MaskedConv2DTypeA(32, 3, padding=\"same\")(a)"
      ]
    },
    {
      "cell_type": "code",
      "execution_count": 9,
      "metadata": {
        "id": "5K5bdwHJ0BHO"
      },
      "outputs": [],
      "source": [
        "def get_model():\n",
        "  inputs = tf.keras.Input(shape=input_shape)\n",
        "\n",
        "  x = MaskedConv2DTypeA(128,7,padding=\"same\",activation=\"relu\")(inputs)\n",
        "  for _ in range(3):\n",
        "    x = MaskedConv2DTypeA(128,3,padding=\"same\",activation=\"relu\")(x)\n",
        "\n",
        "  out = tf.keras.layers.Conv2D(\n",
        "    filters=1, kernel_size=1, strides=1, padding=\"valid\")(x)\n",
        "\n",
        "  pixcel_cnn = tf.keras.Model(inputs, out)\n",
        "\n",
        "  pixcel_cnn.summary()\n",
        "\n",
        "  return pixcel_cnn\n",
        "\n"
      ]
    },
    {
      "cell_type": "code",
      "execution_count": 10,
      "metadata": {
        "colab": {
          "base_uri": "https://localhost:8080/"
        },
        "id": "vsYd1z4k2Btv",
        "outputId": "6380ce9e-6712-467c-ee5b-e09c5de739b9"
      },
      "outputs": [
        {
          "name": "stdout",
          "output_type": "stream",
          "text": [
            "Model: \"model\"\n",
            "_________________________________________________________________\n",
            "Layer (type)                 Output Shape              Param #   \n",
            "=================================================================\n",
            "input_1 (InputLayer)         [(None, 28, 28, 1)]       0         \n",
            "_________________________________________________________________\n",
            "masked_conv2d_type_a_1 (Mask (None, 28, 28, 128)       6400      \n",
            "_________________________________________________________________\n",
            "masked_conv2d_type_a_2 (Mask (None, 28, 28, 128)       147584    \n",
            "_________________________________________________________________\n",
            "masked_conv2d_type_a_3 (Mask (None, 28, 28, 128)       147584    \n",
            "_________________________________________________________________\n",
            "masked_conv2d_type_a_4 (Mask (None, 28, 28, 128)       147584    \n",
            "_________________________________________________________________\n",
            "conv2d_1 (Conv2D)            (None, 28, 28, 1)         129       \n",
            "=================================================================\n",
            "Total params: 449,281\n",
            "Trainable params: 449,281\n",
            "Non-trainable params: 0\n",
            "_________________________________________________________________\n"
          ]
        }
      ],
      "source": [
        "pixcel_cnn = get_model()"
      ]
    },
    {
      "cell_type": "code",
      "execution_count": 11,
      "metadata": {
        "colab": {
          "base_uri": "https://localhost:8080/"
        },
        "id": "dERXxbDm8Tk_",
        "outputId": "77f3fc06-54ae-4e71-96ad-fd3179c090b5"
      },
      "outputs": [
        {
          "data": {
            "text/plain": [
              "<tensorflow.python.keras.engine.functional.Functional at 0x7f22c02f26d0>"
            ]
          },
          "execution_count": 11,
          "metadata": {
            "tags": []
          },
          "output_type": "execute_result"
        }
      ],
      "source": [
        "pixcel_cnn"
      ]
    },
    {
      "cell_type": "code",
      "execution_count": 12,
      "metadata": {
        "id": "aJ9ibTrQt7k_"
      },
      "outputs": [],
      "source": [
        "epochs = 50\n",
        "opt = tf.keras.optimizers.Adam(0.001)\n",
        "loss_scc = tf.keras.losses.SparseCategoricalCrossentropy(from_logits=True)\n",
        "loss_bce = tf.keras.losses.BinaryCrossentropy(from_logits=True)"
      ]
    },
    {
      "cell_type": "code",
      "execution_count": 13,
      "metadata": {
        "id": "0bKWBLaNufg4"
      },
      "outputs": [],
      "source": [
        "def pixelcnn_train(pixcel_cnn,loss):\n",
        "  steps = 0\n",
        "  for epoch in range(epochs):\n",
        "    for img_batch in train_data:\n",
        "\n",
        "      with tf.GradientTape() as tape:\n",
        "        out = pixcel_cnn(img_batch)\n",
        "        xent = loss(img_batch, out) #loss(img_batch, out)\n",
        "        \n",
        "      grads = tape.gradient(xent, pixcel_cnn.trainable_variables)\n",
        "      opt.apply_gradients(zip(grads, pixcel_cnn.trainable_variables))\n",
        "\n",
        "      #print(\"xent: \",xent)\n",
        "      #print(\"grads: \",grads)\n",
        "    \n",
        "      steps += 1\n",
        "\n",
        "      if steps % 100 == 0:\n",
        "        print(\"Epoch:{}  Step:{} Loss:{}\".format(epoch,steps,xent))\n"
      ]
    },
    {
      "cell_type": "code",
      "execution_count": 14,
      "metadata": {
        "colab": {
          "base_uri": "https://localhost:8080/"
        },
        "id": "1RPQ7n1_v_03",
        "outputId": "9918ed37-be22-4972-d891-e9599d632694"
      },
      "outputs": [
        {
          "name": "stdout",
          "output_type": "stream",
          "text": [
            "Epoch:0  Step:100 Loss:0.1374504566192627\n",
            "Epoch:0  Step:200 Loss:0.13509665429592133\n",
            "Epoch:0  Step:300 Loss:0.12826435267925262\n",
            "Epoch:0  Step:400 Loss:0.12569408118724823\n",
            "Epoch:1  Step:500 Loss:0.1274586170911789\n",
            "Epoch:1  Step:600 Loss:0.12159509211778641\n",
            "Epoch:1  Step:700 Loss:0.12376789003610611\n",
            "Epoch:1  Step:800 Loss:0.1230238676071167\n",
            "Epoch:1  Step:900 Loss:0.1186741441488266\n",
            "Epoch:2  Step:1000 Loss:0.11723092198371887\n",
            "Epoch:2  Step:1100 Loss:0.11854238063097\n",
            "Epoch:2  Step:1200 Loss:0.11775010824203491\n",
            "Epoch:2  Step:1300 Loss:0.116533063352108\n",
            "Epoch:2  Step:1400 Loss:0.11770745366811752\n",
            "Epoch:3  Step:1500 Loss:0.12189804762601852\n",
            "Epoch:3  Step:1600 Loss:0.12181808799505234\n",
            "Epoch:3  Step:1700 Loss:0.11807321012020111\n",
            "Epoch:3  Step:1800 Loss:0.11759837716817856\n",
            "Epoch:4  Step:1900 Loss:0.11562541872262955\n",
            "Epoch:4  Step:2000 Loss:0.12115247547626495\n",
            "Epoch:4  Step:2100 Loss:0.11997871845960617\n",
            "Epoch:4  Step:2200 Loss:0.11440002918243408\n",
            "Epoch:4  Step:2300 Loss:0.11777295172214508\n",
            "Epoch:5  Step:2400 Loss:0.11955010145902634\n",
            "Epoch:5  Step:2500 Loss:0.11834857612848282\n",
            "Epoch:5  Step:2600 Loss:0.11651098728179932\n",
            "Epoch:5  Step:2700 Loss:0.11442752927541733\n",
            "Epoch:5  Step:2800 Loss:0.11368558555841446\n",
            "Epoch:6  Step:2900 Loss:0.11337477713823318\n",
            "Epoch:6  Step:3000 Loss:0.11058550328016281\n",
            "Epoch:6  Step:3100 Loss:0.11351349204778671\n",
            "Epoch:6  Step:3200 Loss:0.1195773184299469\n",
            "Epoch:7  Step:3300 Loss:0.11504720896482468\n",
            "Epoch:7  Step:3400 Loss:0.1184672936797142\n",
            "Epoch:7  Step:3500 Loss:0.11666371673345566\n",
            "Epoch:7  Step:3600 Loss:0.11894054710865021\n",
            "Epoch:7  Step:3700 Loss:0.11598177254199982\n",
            "Epoch:8  Step:3800 Loss:0.11517193168401718\n",
            "Epoch:8  Step:3900 Loss:0.11264161765575409\n",
            "Epoch:8  Step:4000 Loss:0.1137305200099945\n",
            "Epoch:8  Step:4100 Loss:0.1180858239531517\n",
            "Epoch:8  Step:4200 Loss:0.1149895116686821\n",
            "Epoch:9  Step:4300 Loss:0.11363504081964493\n",
            "Epoch:9  Step:4400 Loss:0.1150716170668602\n",
            "Epoch:9  Step:4500 Loss:0.11227285861968994\n",
            "Epoch:9  Step:4600 Loss:0.11587617546319962\n",
            "Epoch:10  Step:4700 Loss:0.10895325243473053\n",
            "Epoch:10  Step:4800 Loss:0.10822191834449768\n",
            "Epoch:10  Step:4900 Loss:0.1164599061012268\n",
            "Epoch:10  Step:5000 Loss:0.11574980616569519\n",
            "Epoch:10  Step:5100 Loss:0.11155803501605988\n",
            "Epoch:11  Step:5200 Loss:0.11218467354774475\n",
            "Epoch:11  Step:5300 Loss:0.11808373779058456\n",
            "Epoch:11  Step:5400 Loss:0.11269630491733551\n",
            "Epoch:11  Step:5500 Loss:0.11275320500135422\n",
            "Epoch:11  Step:5600 Loss:0.11930426955223083\n",
            "Epoch:12  Step:5700 Loss:0.11582603305578232\n",
            "Epoch:12  Step:5800 Loss:0.11331167072057724\n",
            "Epoch:12  Step:5900 Loss:0.10978235304355621\n",
            "Epoch:12  Step:6000 Loss:0.11559110879898071\n",
            "Epoch:13  Step:6100 Loss:0.11096657812595367\n",
            "Epoch:13  Step:6200 Loss:0.1180143728852272\n",
            "Epoch:13  Step:6300 Loss:0.11746620386838913\n",
            "Epoch:13  Step:6400 Loss:0.11168637871742249\n",
            "Epoch:13  Step:6500 Loss:0.11477845907211304\n",
            "Epoch:14  Step:6600 Loss:0.11399570852518082\n",
            "Epoch:14  Step:6700 Loss:0.11711273342370987\n",
            "Epoch:14  Step:6800 Loss:0.11605344712734222\n",
            "Epoch:14  Step:6900 Loss:0.11463823169469833\n",
            "Epoch:14  Step:7000 Loss:0.10904878377914429\n",
            "Epoch:15  Step:7100 Loss:0.11387507617473602\n",
            "Epoch:15  Step:7200 Loss:0.11269316077232361\n",
            "Epoch:15  Step:7300 Loss:0.11414886265993118\n",
            "Epoch:15  Step:7400 Loss:0.11507979035377502\n",
            "Epoch:16  Step:7500 Loss:0.11244558542966843\n",
            "Epoch:16  Step:7600 Loss:0.11496651917695999\n",
            "Epoch:16  Step:7700 Loss:0.11449471116065979\n",
            "Epoch:16  Step:7800 Loss:0.11187763512134552\n",
            "Epoch:16  Step:7900 Loss:0.11359161883592606\n",
            "Epoch:17  Step:8000 Loss:0.11466766148805618\n",
            "Epoch:17  Step:8100 Loss:0.11072929203510284\n",
            "Epoch:17  Step:8200 Loss:0.11291048675775528\n",
            "Epoch:17  Step:8300 Loss:0.11646995693445206\n",
            "Epoch:17  Step:8400 Loss:0.11406897753477097\n",
            "Epoch:18  Step:8500 Loss:0.11444518715143204\n",
            "Epoch:18  Step:8600 Loss:0.11515460908412933\n",
            "Epoch:18  Step:8700 Loss:0.1115502268075943\n",
            "Epoch:18  Step:8800 Loss:0.11297662556171417\n",
            "Epoch:19  Step:8900 Loss:0.1123943105340004\n",
            "Epoch:19  Step:9000 Loss:0.11045382171869278\n",
            "Epoch:19  Step:9100 Loss:0.11117412894964218\n",
            "Epoch:19  Step:9200 Loss:0.11210022121667862\n",
            "Epoch:19  Step:9300 Loss:0.11079766601324081\n",
            "Epoch:20  Step:9400 Loss:0.11239022761583328\n",
            "Epoch:20  Step:9500 Loss:0.11360347270965576\n",
            "Epoch:20  Step:9600 Loss:0.11273723840713501\n",
            "Epoch:20  Step:9700 Loss:0.11201120913028717\n",
            "Epoch:20  Step:9800 Loss:0.11450264602899551\n",
            "Epoch:21  Step:9900 Loss:0.11160293966531754\n",
            "Epoch:21  Step:10000 Loss:0.10822659730911255\n",
            "Epoch:21  Step:10100 Loss:0.11407304555177689\n",
            "Epoch:21  Step:10200 Loss:0.11489003151655197\n",
            "Epoch:22  Step:10300 Loss:0.11204417794942856\n",
            "Epoch:22  Step:10400 Loss:0.11487715691328049\n",
            "Epoch:22  Step:10500 Loss:0.11221134662628174\n",
            "Epoch:22  Step:10600 Loss:0.11546698212623596\n",
            "Epoch:22  Step:10700 Loss:0.11175019294023514\n",
            "Epoch:23  Step:10800 Loss:0.11128367483615875\n",
            "Epoch:23  Step:10900 Loss:0.11217054724693298\n",
            "Epoch:23  Step:11000 Loss:0.11363834887742996\n",
            "Epoch:23  Step:11100 Loss:0.11077724397182465\n",
            "Epoch:23  Step:11200 Loss:0.11063754558563232\n",
            "Epoch:24  Step:11300 Loss:0.11214417964220047\n",
            "Epoch:24  Step:11400 Loss:0.1088930070400238\n",
            "Epoch:24  Step:11500 Loss:0.11373970657587051\n",
            "Epoch:24  Step:11600 Loss:0.11205843836069107\n",
            "Epoch:24  Step:11700 Loss:0.11100469529628754\n",
            "Epoch:25  Step:11800 Loss:0.11172473430633545\n",
            "Epoch:25  Step:11900 Loss:0.11569497734308243\n",
            "Epoch:25  Step:12000 Loss:0.10950619727373123\n",
            "Epoch:25  Step:12100 Loss:0.1123146116733551\n",
            "Epoch:26  Step:12200 Loss:0.11319557577371597\n",
            "Epoch:26  Step:12300 Loss:0.11347998678684235\n",
            "Epoch:26  Step:12400 Loss:0.11391203850507736\n",
            "Epoch:26  Step:12500 Loss:0.10971865057945251\n",
            "Epoch:26  Step:12600 Loss:0.10864099860191345\n",
            "Epoch:27  Step:12700 Loss:0.11288919299840927\n",
            "Epoch:27  Step:12800 Loss:0.11255186796188354\n",
            "Epoch:27  Step:12900 Loss:0.11166228353977203\n",
            "Epoch:27  Step:13000 Loss:0.11176470667123795\n",
            "Epoch:27  Step:13100 Loss:0.11305385828018188\n",
            "Epoch:28  Step:13200 Loss:0.11060775071382523\n",
            "Epoch:28  Step:13300 Loss:0.11350110173225403\n",
            "Epoch:28  Step:13400 Loss:0.11550557613372803\n",
            "Epoch:28  Step:13500 Loss:0.11460407078266144\n",
            "Epoch:29  Step:13600 Loss:0.11257050931453705\n",
            "Epoch:29  Step:13700 Loss:0.10572551190853119\n",
            "Epoch:29  Step:13800 Loss:0.1117103323340416\n",
            "Epoch:29  Step:13900 Loss:0.10936450213193893\n",
            "Epoch:29  Step:14000 Loss:0.11002432554960251\n",
            "Epoch:30  Step:14100 Loss:0.10924625396728516\n",
            "Epoch:30  Step:14200 Loss:0.11372010409832001\n",
            "Epoch:30  Step:14300 Loss:0.11193479597568512\n",
            "Epoch:30  Step:14400 Loss:0.11023185402154922\n",
            "Epoch:30  Step:14500 Loss:0.11580648273229599\n",
            "Epoch:31  Step:14600 Loss:0.10944618284702301\n",
            "Epoch:31  Step:14700 Loss:0.11174029111862183\n",
            "Epoch:31  Step:14800 Loss:0.11114788055419922\n",
            "Epoch:31  Step:14900 Loss:0.10996973514556885\n",
            "Epoch:32  Step:15000 Loss:0.10986108332872391\n",
            "Epoch:32  Step:15100 Loss:0.11064367741346359\n",
            "Epoch:32  Step:15200 Loss:0.10955353081226349\n",
            "Epoch:32  Step:15300 Loss:0.10874506831169128\n",
            "Epoch:32  Step:15400 Loss:0.11156456172466278\n",
            "Epoch:33  Step:15500 Loss:0.1121295690536499\n",
            "Epoch:33  Step:15600 Loss:0.10901205241680145\n",
            "Epoch:33  Step:15700 Loss:0.11253238469362259\n",
            "Epoch:33  Step:15800 Loss:0.11312644183635712\n",
            "Epoch:33  Step:15900 Loss:0.11606590449810028\n",
            "Epoch:34  Step:16000 Loss:0.11106553673744202\n",
            "Epoch:34  Step:16100 Loss:0.11510071158409119\n",
            "Epoch:34  Step:16200 Loss:0.10988789796829224\n",
            "Epoch:34  Step:16300 Loss:0.1106363907456398\n",
            "Epoch:35  Step:16400 Loss:0.11260458081960678\n",
            "Epoch:35  Step:16500 Loss:0.11131256818771362\n",
            "Epoch:35  Step:16600 Loss:0.11150599271059036\n",
            "Epoch:35  Step:16700 Loss:0.11079391092061996\n",
            "Epoch:35  Step:16800 Loss:0.1107388287782669\n",
            "Epoch:36  Step:16900 Loss:0.11251557618379593\n",
            "Epoch:36  Step:17000 Loss:0.11076182872056961\n",
            "Epoch:36  Step:17100 Loss:0.10958126932382584\n",
            "Epoch:36  Step:17200 Loss:0.11156586557626724\n",
            "Epoch:36  Step:17300 Loss:0.10927785933017731\n",
            "Epoch:37  Step:17400 Loss:0.11654094606637955\n",
            "Epoch:37  Step:17500 Loss:0.11307453364133835\n",
            "Epoch:37  Step:17600 Loss:0.11113916337490082\n",
            "Epoch:37  Step:17700 Loss:0.11352267861366272\n",
            "Epoch:38  Step:17800 Loss:0.11355386674404144\n",
            "Epoch:38  Step:17900 Loss:0.1101389229297638\n",
            "Epoch:38  Step:18000 Loss:0.10982411354780197\n",
            "Epoch:38  Step:18100 Loss:0.11389055103063583\n",
            "Epoch:38  Step:18200 Loss:0.11004124581813812\n",
            "Epoch:39  Step:18300 Loss:0.10954412072896957\n",
            "Epoch:39  Step:18400 Loss:0.1094568595290184\n",
            "Epoch:39  Step:18500 Loss:0.11425177752971649\n",
            "Epoch:39  Step:18600 Loss:0.10881194472312927\n",
            "Epoch:39  Step:18700 Loss:0.11046524345874786\n",
            "Epoch:40  Step:18800 Loss:0.11402437835931778\n",
            "Epoch:40  Step:18900 Loss:0.11096394807100296\n",
            "Epoch:40  Step:19000 Loss:0.10884331911802292\n",
            "Epoch:40  Step:19100 Loss:0.10863743722438812\n",
            "Epoch:41  Step:19200 Loss:0.10723146796226501\n",
            "Epoch:41  Step:19300 Loss:0.10905217379331589\n",
            "Epoch:41  Step:19400 Loss:0.11064817756414413\n",
            "Epoch:41  Step:19500 Loss:0.1131230965256691\n",
            "Epoch:41  Step:19600 Loss:0.11031188815832138\n",
            "Epoch:42  Step:19700 Loss:0.11319214850664139\n",
            "Epoch:42  Step:19800 Loss:0.10876902937889099\n",
            "Epoch:42  Step:19900 Loss:0.1117694228887558\n",
            "Epoch:42  Step:20000 Loss:0.10796159505844116\n",
            "Epoch:42  Step:20100 Loss:0.10992444306612015\n",
            "Epoch:43  Step:20200 Loss:0.11001252382993698\n",
            "Epoch:43  Step:20300 Loss:0.11184960603713989\n",
            "Epoch:43  Step:20400 Loss:0.11077394336462021\n",
            "Epoch:43  Step:20500 Loss:0.11439600586891174\n",
            "Epoch:44  Step:20600 Loss:0.10785672068595886\n",
            "Epoch:44  Step:20700 Loss:0.10733488947153091\n",
            "Epoch:44  Step:20800 Loss:0.11008480936288834\n",
            "Epoch:44  Step:20900 Loss:0.11266260594129562\n",
            "Epoch:44  Step:21000 Loss:0.10858767479658127\n",
            "Epoch:45  Step:21100 Loss:0.11163204908370972\n",
            "Epoch:45  Step:21200 Loss:0.11826097965240479\n",
            "Epoch:45  Step:21300 Loss:0.11329846829175949\n",
            "Epoch:45  Step:21400 Loss:0.10724984109401703\n",
            "Epoch:45  Step:21500 Loss:0.11162012815475464\n",
            "Epoch:46  Step:21600 Loss:0.11305894702672958\n",
            "Epoch:46  Step:21700 Loss:0.11218255758285522\n",
            "Epoch:46  Step:21800 Loss:0.10883379727602005\n",
            "Epoch:46  Step:21900 Loss:0.11208425462245941\n",
            "Epoch:47  Step:22000 Loss:0.1112532913684845\n",
            "Epoch:47  Step:22100 Loss:0.11210449039936066\n",
            "Epoch:47  Step:22200 Loss:0.10858684778213501\n",
            "Epoch:47  Step:22300 Loss:0.10804379731416702\n",
            "Epoch:47  Step:22400 Loss:0.10744583606719971\n",
            "Epoch:48  Step:22500 Loss:0.11206229776144028\n",
            "Epoch:48  Step:22600 Loss:0.10941201448440552\n",
            "Epoch:48  Step:22700 Loss:0.10830943286418915\n",
            "Epoch:48  Step:22800 Loss:0.11343605816364288\n",
            "Epoch:48  Step:22900 Loss:0.10659828782081604\n",
            "Epoch:49  Step:23000 Loss:0.10982787609100342\n",
            "Epoch:49  Step:23100 Loss:0.11037024855613708\n",
            "Epoch:49  Step:23200 Loss:0.11322189122438431\n",
            "Epoch:49  Step:23300 Loss:0.1070532500743866\n",
            "Epoch:49  Step:23400 Loss:0.11199989914894104\n"
          ]
        }
      ],
      "source": [
        "pixelcnn_train(pixcel_cnn,loss_bce)"
      ]
    },
    {
      "cell_type": "code",
      "execution_count": 15,
      "metadata": {
        "id": "9suFa-h5iun4"
      },
      "outputs": [],
      "source": [
        "def generate_img(model,num, w, h):\n",
        "    img = np.zeros([num, w, h, 1], dtype=np.float32)\n",
        "    for row in range(w):\n",
        "        for col in range(h):\n",
        "            out = model(img)[:, row, col, :]\n",
        "            out = tfp.distributions.Categorical(logits=out, dtype=tf.float32).sample()\n",
        "            out = out / 255\n",
        "            img[:, row, col, 0] = out\n",
        "    return img "
      ]
    },
    {
      "cell_type": "code",
      "execution_count": 16,
      "metadata": {
        "id": "DEJDmYS7jLYA"
      },
      "outputs": [],
      "source": [
        "images = generate_img(pixcel_cnn,5,28,28)"
      ]
    },
    {
      "cell_type": "code",
      "execution_count": 17,
      "metadata": {
        "colab": {
          "base_uri": "https://localhost:8080/"
        },
        "id": "iMhItOY7nVA3",
        "outputId": "91f06c8f-7151-45f1-b204-7730162e4490"
      },
      "outputs": [
        {
          "name": "stdout",
          "output_type": "stream",
          "text": [
            "(28, 28, 1)\n",
            "(28, 28, 1)\n",
            "(28, 28, 1)\n",
            "(28, 28, 1)\n",
            "(28, 28, 1)\n"
          ]
        }
      ],
      "source": [
        "for img in images:\n",
        "  print(img.shape)"
      ]
    },
    {
      "cell_type": "code",
      "execution_count": 18,
      "metadata": {
        "colab": {
          "base_uri": "https://localhost:8080/",
          "height": 992
        },
        "id": "WsvF6098j8ar",
        "outputId": "f159ad1b-4e90-4e88-bad7-3e540669e5d2"
      },
      "outputs": [
        {
          "data": {
            "image/png": "[encoded data removed]",
            "text/plain": [
              "<Figure size 216x216 with 1 Axes>"
            ]
          },
          "metadata": {
            "needs_background": "light",
            "tags": []
          },
          "output_type": "display_data"
        },
        {
          "data": {
            "image/png": "[encoded data removed]",
            "text/plain": [
              "<Figure size 216x216 with 1 Axes>"
            ]
          },
          "metadata": {
            "needs_background": "light",
            "tags": []
          },
          "output_type": "display_data"
        },
        {
          "data": {
            "image/png": "[encoded data removed]",
            "text/plain": [
              "<Figure size 216x216 with 1 Axes>"
            ]
          },
          "metadata": {
            "needs_background": "light",
            "tags": []
          },
          "output_type": "display_data"
        },
        {
          "data": {
            "image/png": "[encoded data removed]",
            "text/plain": [
              "<Figure size 216x216 with 1 Axes>"
            ]
          },
          "metadata": {
            "needs_background": "light",
            "tags": []
          },
          "output_type": "display_data"
        },
        {
          "data": {
            "image/png": "[encoded data removed]",
            "text/plain": [
              "<Figure size 216x216 with 1 Axes>"
            ]
          },
          "metadata": {
            "needs_background": "light",
            "tags": []
          },
          "output_type": "display_data"
        }
      ],
      "source": [
        "figsize = 3\n",
        "for img in images:\n",
        "  plt.figure(figsize=(figsize, figsize));\n",
        "  img = img.reshape(28,28)\n",
        "  plt.imshow(img,cmap='gray')\n",
        "  plt.show()"
      ]
    },
    {
      "cell_type": "code",
      "execution_count": 19,
      "metadata": {
        "id": "cjbXOmwOqvR3"
      },
      "outputs": [],
      "source": [
        "class ResidualBlock(tf.keras.layers.Layer):\n",
        "    def __init__(self, filters, **kwargs):\n",
        "        super(ResidualBlock, self).__init__(**kwargs)\n",
        "        self.conv1 = tf.keras.layers.Conv2D(\n",
        "            filters=filters, kernel_size=1\n",
        "        )\n",
        "        self.pixel_conv = MaskedConv2DTypeA(filters=128,kernel_size=7,activation=\"relu\",padding=\"same\")\n",
        "        self.conv2 = tf.keras.layers.Conv2D(\n",
        "            filters=filters, kernel_size=1, activation=\"relu\"\n",
        "        )\n",
        "\n",
        "    def call(self, inputs):\n",
        "        x = self.conv1(inputs)\n",
        "        x = self.pixel_conv(x)\n",
        "        x = self.conv2(x)\n",
        "        return tf.keras.layers.add([inputs, x])"
      ]
    },
    {
      "cell_type": "code",
      "execution_count": 20,
      "metadata": {
        "id": "vnBahy73vCpf"
      },
      "outputs": [],
      "source": [
        "def get_model_with_residual(num_res_block):\n",
        "  inputs = tf.keras.Input(shape=input_shape)\n",
        "\n",
        "  x = MaskedConv2DTypeA(filters=128,kernel_size=7,padding=\"same\",activation=\"relu\")(inputs)\n",
        "\n",
        "  for _ in range(num_res_block):\n",
        "    x = ResidualBlock(filters=128)(x)\n",
        "\n",
        "  for _ in range(3):\n",
        "    x = MaskedConv2DTypeA(128,3,padding=\"same\",activation=\"relu\")(x)\n",
        "\n",
        "  out = tf.keras.layers.Conv2D(\n",
        "    filters=1, kernel_size=1, strides=1, padding=\"valid\")(x)\n",
        "\n",
        "  pixcel_cnn = tf.keras.Model(inputs, out)\n",
        "\n",
        "  pixcel_cnn.summary()\n",
        "  \n",
        "  return pixcel_cnn"
      ]
    },
    {
      "cell_type": "code",
      "execution_count": 21,
      "metadata": {
        "colab": {
          "base_uri": "https://localhost:8080/"
        },
        "id": "__EnwGhtwnpF",
        "outputId": "f9bfbb02-0b6a-404c-91ae-22b777ae38e7"
      },
      "outputs": [
        {
          "name": "stdout",
          "output_type": "stream",
          "text": [
            "Model: \"model_1\"\n",
            "_________________________________________________________________\n",
            "Layer (type)                 Output Shape              Param #   \n",
            "=================================================================\n",
            "input_2 (InputLayer)         [(None, 28, 28, 1)]       0         \n",
            "_________________________________________________________________\n",
            "masked_conv2d_type_a_5 (Mask (None, 28, 28, 128)       6400      \n",
            "_________________________________________________________________\n",
            "residual_block (ResidualBloc (None, 28, 28, 128)       835968    \n",
            "_________________________________________________________________\n",
            "residual_block_1 (ResidualBl (None, 28, 28, 128)       835968    \n",
            "_________________________________________________________________\n",
            "residual_block_2 (ResidualBl (None, 28, 28, 128)       835968    \n",
            "_________________________________________________________________\n",
            "masked_conv2d_type_a_9 (Mask (None, 28, 28, 128)       147584    \n",
            "_________________________________________________________________\n",
            "masked_conv2d_type_a_10 (Mas (None, 28, 28, 128)       147584    \n",
            "_________________________________________________________________\n",
            "masked_conv2d_type_a_11 (Mas (None, 28, 28, 128)       147584    \n",
            "_________________________________________________________________\n",
            "conv2d_8 (Conv2D)            (None, 28, 28, 1)         129       \n",
            "=================================================================\n",
            "Total params: 2,957,185\n",
            "Trainable params: 2,957,185\n",
            "Non-trainable params: 0\n",
            "_________________________________________________________________\n"
          ]
        }
      ],
      "source": [
        "pixcel_cnn_residual = get_model_with_residual(3)"
      ]
    },
    {
      "cell_type": "code",
      "execution_count": 22,
      "metadata": {
        "colab": {
          "base_uri": "https://localhost:8080/"
        },
        "id": "kAuH3t4GxwOF",
        "outputId": "0f5da6d8-e46b-4151-ed0f-29793fe899d3"
      },
      "outputs": [
        {
          "name": "stdout",
          "output_type": "stream",
          "text": [
            "Epoch:0  Step:100 Loss:0.29305005073547363\n",
            "Epoch:0  Step:200 Loss:0.2076423019170761\n",
            "Epoch:0  Step:300 Loss:0.17118214070796967\n",
            "Epoch:0  Step:400 Loss:0.15536150336265564\n",
            "Epoch:1  Step:500 Loss:0.1562470942735672\n",
            "Epoch:1  Step:600 Loss:0.14722348749637604\n",
            "Epoch:1  Step:700 Loss:0.1516205370426178\n",
            "Epoch:1  Step:800 Loss:0.14243988692760468\n",
            "Epoch:1  Step:900 Loss:0.13850881159305573\n",
            "Epoch:2  Step:1000 Loss:0.12502029538154602\n",
            "Epoch:2  Step:1100 Loss:0.12516282498836517\n",
            "Epoch:2  Step:1200 Loss:0.12150990217924118\n",
            "Epoch:2  Step:1300 Loss:0.12282241135835648\n",
            "Epoch:2  Step:1400 Loss:0.12105391174554825\n",
            "Epoch:3  Step:1500 Loss:0.11531759798526764\n",
            "Epoch:3  Step:1600 Loss:0.11652294546365738\n",
            "Epoch:3  Step:1700 Loss:0.117718406021595\n",
            "Epoch:3  Step:1800 Loss:0.11381939798593521\n",
            "Epoch:4  Step:1900 Loss:0.11685002595186234\n",
            "Epoch:4  Step:2000 Loss:0.11998118460178375\n",
            "Epoch:4  Step:2100 Loss:0.11461767554283142\n",
            "Epoch:4  Step:2200 Loss:0.11204707622528076\n",
            "Epoch:4  Step:2300 Loss:0.11016470193862915\n",
            "Epoch:5  Step:2400 Loss:0.10940148681402206\n",
            "Epoch:5  Step:2500 Loss:0.1145641952753067\n",
            "Epoch:5  Step:2600 Loss:0.11499348282814026\n",
            "Epoch:5  Step:2700 Loss:0.10932514816522598\n",
            "Epoch:5  Step:2800 Loss:0.10850509256124496\n",
            "Epoch:6  Step:2900 Loss:0.10972248762845993\n",
            "Epoch:6  Step:3000 Loss:0.10590392351150513\n",
            "Epoch:6  Step:3100 Loss:0.114101342856884\n",
            "Epoch:6  Step:3200 Loss:0.1115327924489975\n",
            "Epoch:7  Step:3300 Loss:0.10794787853956223\n",
            "Epoch:7  Step:3400 Loss:0.1087714433670044\n",
            "Epoch:7  Step:3500 Loss:0.10580231249332428\n",
            "Epoch:7  Step:3600 Loss:0.10708294808864594\n",
            "Epoch:7  Step:3700 Loss:0.11052858829498291\n",
            "Epoch:8  Step:3800 Loss:0.11089354008436203\n",
            "Epoch:8  Step:3900 Loss:0.11021341383457184\n",
            "Epoch:8  Step:4000 Loss:0.10769026726484299\n",
            "Epoch:8  Step:4100 Loss:0.10621486604213715\n",
            "Epoch:8  Step:4200 Loss:0.10557787120342255\n",
            "Epoch:9  Step:4300 Loss:0.11073610931634903\n",
            "Epoch:9  Step:4400 Loss:0.10479635000228882\n",
            "Epoch:9  Step:4500 Loss:0.10296394675970078\n",
            "Epoch:9  Step:4600 Loss:0.10852563381195068\n",
            "Epoch:10  Step:4700 Loss:0.10950946062803268\n",
            "Epoch:10  Step:4800 Loss:0.1069786474108696\n",
            "Epoch:10  Step:4900 Loss:0.10493665933609009\n",
            "Epoch:10  Step:5000 Loss:0.1022745817899704\n",
            "Epoch:10  Step:5100 Loss:0.10568265616893768\n",
            "Epoch:11  Step:5200 Loss:0.11005081236362457\n",
            "Epoch:11  Step:5300 Loss:0.10590292513370514\n",
            "Epoch:11  Step:5400 Loss:0.10359860211610794\n",
            "Epoch:11  Step:5500 Loss:0.10507741570472717\n",
            "Epoch:11  Step:5600 Loss:0.1045270562171936\n",
            "Epoch:12  Step:5700 Loss:0.10662931203842163\n",
            "Epoch:12  Step:5800 Loss:0.10669361799955368\n",
            "Epoch:12  Step:5900 Loss:0.10737644135951996\n",
            "Epoch:12  Step:6000 Loss:0.1049325093626976\n",
            "Epoch:13  Step:6100 Loss:0.1051754280924797\n",
            "Epoch:13  Step:6200 Loss:0.10151169449090958\n",
            "Epoch:13  Step:6300 Loss:0.10331691056489944\n",
            "Epoch:13  Step:6400 Loss:0.10416018217802048\n",
            "Epoch:13  Step:6500 Loss:0.10714276134967804\n",
            "Epoch:14  Step:6600 Loss:0.1016780212521553\n",
            "Epoch:14  Step:6700 Loss:0.10497492551803589\n",
            "Epoch:14  Step:6800 Loss:0.10440992563962936\n",
            "Epoch:14  Step:6900 Loss:0.106300488114357\n",
            "Epoch:14  Step:7000 Loss:0.10487443208694458\n",
            "Epoch:15  Step:7100 Loss:0.106288380920887\n",
            "Epoch:15  Step:7200 Loss:0.10147631913423538\n",
            "Epoch:15  Step:7300 Loss:0.1037343293428421\n",
            "Epoch:15  Step:7400 Loss:0.10311134159564972\n",
            "Epoch:16  Step:7500 Loss:0.10301268845796585\n",
            "Epoch:16  Step:7600 Loss:0.1034264788031578\n",
            "Epoch:16  Step:7700 Loss:0.10189937800168991\n",
            "Epoch:16  Step:7800 Loss:0.10313524305820465\n",
            "Epoch:16  Step:7900 Loss:0.10207844525575638\n",
            "Epoch:17  Step:8000 Loss:0.10419938713312149\n",
            "Epoch:17  Step:8100 Loss:0.10116603225469589\n",
            "Epoch:17  Step:8200 Loss:0.10253110527992249\n",
            "Epoch:17  Step:8300 Loss:0.10485341399908066\n",
            "Epoch:17  Step:8400 Loss:0.1013876274228096\n",
            "Epoch:18  Step:8500 Loss:0.09812936931848526\n",
            "Epoch:18  Step:8600 Loss:0.10307805240154266\n",
            "Epoch:18  Step:8700 Loss:0.10382366925477982\n",
            "Epoch:18  Step:8800 Loss:0.10764658451080322\n",
            "Epoch:19  Step:8900 Loss:0.10017064213752747\n",
            "Epoch:19  Step:9000 Loss:0.1039886400103569\n",
            "Epoch:19  Step:9100 Loss:0.10185899585485458\n",
            "Epoch:19  Step:9200 Loss:0.10262888669967651\n",
            "Epoch:19  Step:9300 Loss:0.10221197456121445\n",
            "Epoch:20  Step:9400 Loss:0.09926502406597137\n",
            "Epoch:20  Step:9500 Loss:0.09880911558866501\n",
            "Epoch:20  Step:9600 Loss:0.10243482142686844\n",
            "Epoch:20  Step:9700 Loss:0.10040327161550522\n",
            "Epoch:20  Step:9800 Loss:0.10028137266635895\n",
            "Epoch:21  Step:9900 Loss:0.10092968493700027\n",
            "Epoch:21  Step:10000 Loss:0.10130923241376877\n",
            "Epoch:21  Step:10100 Loss:0.10393158346414566\n",
            "Epoch:21  Step:10200 Loss:0.10285511612892151\n",
            "Epoch:22  Step:10300 Loss:0.10229600220918655\n",
            "Epoch:22  Step:10400 Loss:0.10324867069721222\n",
            "Epoch:22  Step:10500 Loss:0.09994605928659439\n",
            "Epoch:22  Step:10600 Loss:0.10066308826208115\n",
            "Epoch:22  Step:10700 Loss:0.09705261141061783\n",
            "Epoch:23  Step:10800 Loss:0.10062357783317566\n",
            "Epoch:23  Step:10900 Loss:0.10409536212682724\n",
            "Epoch:23  Step:11000 Loss:0.1027212142944336\n",
            "Epoch:23  Step:11100 Loss:0.09669332951307297\n",
            "Epoch:23  Step:11200 Loss:0.0998162254691124\n",
            "Epoch:24  Step:11300 Loss:0.10217154026031494\n",
            "Epoch:24  Step:11400 Loss:0.09815725684165955\n",
            "Epoch:24  Step:11500 Loss:0.10158920288085938\n",
            "Epoch:24  Step:11600 Loss:0.1020578071475029\n",
            "Epoch:24  Step:11700 Loss:0.09963598847389221\n",
            "Epoch:25  Step:11800 Loss:0.10414081066846848\n",
            "Epoch:25  Step:11900 Loss:0.10543250292539597\n",
            "Epoch:25  Step:12000 Loss:0.09821993112564087\n",
            "Epoch:25  Step:12100 Loss:0.09721051156520844\n",
            "Epoch:26  Step:12200 Loss:0.1009906530380249\n",
            "Epoch:26  Step:12300 Loss:0.09589177370071411\n",
            "Epoch:26  Step:12400 Loss:0.09871219843626022\n",
            "Epoch:26  Step:12500 Loss:0.10286835581064224\n",
            "Epoch:26  Step:12600 Loss:0.10432354360818863\n",
            "Epoch:27  Step:12700 Loss:0.10382487624883652\n",
            "Epoch:27  Step:12800 Loss:0.09910986572504044\n",
            "Epoch:27  Step:12900 Loss:0.09787267446517944\n",
            "Epoch:27  Step:13000 Loss:0.10386184602975845\n",
            "Epoch:27  Step:13100 Loss:0.1026364117860794\n",
            "Epoch:28  Step:13200 Loss:0.09681612253189087\n",
            "Epoch:28  Step:13300 Loss:0.10168001800775528\n",
            "Epoch:28  Step:13400 Loss:0.09831831604242325\n",
            "Epoch:28  Step:13500 Loss:0.10137633979320526\n",
            "Epoch:29  Step:13600 Loss:0.10233429819345474\n",
            "Epoch:29  Step:13700 Loss:0.09854348748922348\n",
            "Epoch:29  Step:13800 Loss:0.10277597606182098\n",
            "Epoch:29  Step:13900 Loss:0.10227072983980179\n",
            "Epoch:29  Step:14000 Loss:0.09598041325807571\n",
            "Epoch:30  Step:14100 Loss:0.10157539695501328\n",
            "Epoch:30  Step:14200 Loss:0.10201863199472427\n",
            "Epoch:30  Step:14300 Loss:0.10175008326768875\n",
            "Epoch:30  Step:14400 Loss:0.10161389410495758\n",
            "Epoch:30  Step:14500 Loss:0.10085878521203995\n",
            "Epoch:31  Step:14600 Loss:0.10355885326862335\n",
            "Epoch:31  Step:14700 Loss:0.10299542546272278\n",
            "Epoch:31  Step:14800 Loss:0.10346478968858719\n",
            "Epoch:31  Step:14900 Loss:0.10085570812225342\n",
            "Epoch:32  Step:15000 Loss:0.10248929262161255\n",
            "Epoch:32  Step:15100 Loss:0.09904302656650543\n",
            "Epoch:32  Step:15200 Loss:0.10061655193567276\n",
            "Epoch:32  Step:15300 Loss:0.10167858749628067\n",
            "Epoch:32  Step:15400 Loss:0.09975305199623108\n",
            "Epoch:33  Step:15500 Loss:0.10154595971107483\n",
            "Epoch:33  Step:15600 Loss:0.0977575033903122\n",
            "Epoch:33  Step:15700 Loss:0.09895000606775284\n",
            "Epoch:33  Step:15800 Loss:0.09925232827663422\n",
            "Epoch:33  Step:15900 Loss:0.10162285715341568\n",
            "Epoch:34  Step:16000 Loss:0.10044592618942261\n",
            "Epoch:34  Step:16100 Loss:0.09804145991802216\n",
            "Epoch:34  Step:16200 Loss:0.09902533888816833\n",
            "Epoch:34  Step:16300 Loss:0.09553323686122894\n",
            "Epoch:35  Step:16400 Loss:0.09762931615114212\n",
            "Epoch:35  Step:16500 Loss:0.09485461562871933\n",
            "Epoch:35  Step:16600 Loss:0.10036034137010574\n",
            "Epoch:35  Step:16700 Loss:0.09849248826503754\n",
            "Epoch:35  Step:16800 Loss:0.10064185410737991\n",
            "Epoch:36  Step:16900 Loss:0.10094594955444336\n",
            "Epoch:36  Step:17000 Loss:0.09990114718675613\n",
            "Epoch:36  Step:17100 Loss:0.09808798134326935\n",
            "Epoch:36  Step:17200 Loss:0.09840727597475052\n",
            "Epoch:36  Step:17300 Loss:0.09802868217229843\n",
            "Epoch:37  Step:17400 Loss:0.10037542879581451\n",
            "Epoch:37  Step:17500 Loss:0.10146664828062057\n",
            "Epoch:37  Step:17600 Loss:0.10292801260948181\n",
            "Epoch:37  Step:17700 Loss:0.09996221214532852\n",
            "Epoch:38  Step:17800 Loss:0.0991399884223938\n",
            "Epoch:38  Step:17900 Loss:0.10076329112052917\n",
            "Epoch:38  Step:18000 Loss:0.0941859632730484\n",
            "Epoch:38  Step:18100 Loss:0.09815232455730438\n",
            "Epoch:38  Step:18200 Loss:0.09735036641359329\n",
            "Epoch:39  Step:18300 Loss:0.09574080258607864\n",
            "Epoch:39  Step:18400 Loss:0.1013195663690567\n",
            "Epoch:39  Step:18500 Loss:0.09860918670892715\n",
            "Epoch:39  Step:18600 Loss:0.09894253313541412\n",
            "Epoch:39  Step:18700 Loss:0.09570638835430145\n",
            "Epoch:40  Step:18800 Loss:0.0999661237001419\n",
            "Epoch:40  Step:18900 Loss:0.09675392508506775\n",
            "Epoch:40  Step:19000 Loss:0.10026035457849503\n",
            "Epoch:40  Step:19100 Loss:0.09925034642219543\n",
            "Epoch:41  Step:19200 Loss:0.09902600198984146\n",
            "Epoch:41  Step:19300 Loss:0.09891052544116974\n",
            "Epoch:41  Step:19400 Loss:0.09858068078756332\n",
            "Epoch:41  Step:19500 Loss:0.09630682319402695\n",
            "Epoch:41  Step:19600 Loss:0.10021674633026123\n",
            "Epoch:42  Step:19700 Loss:0.09808886796236038\n",
            "Epoch:42  Step:19800 Loss:0.09702196717262268\n",
            "Epoch:42  Step:19900 Loss:0.09812522679567337\n",
            "Epoch:42  Step:20000 Loss:0.09521538019180298\n",
            "Epoch:42  Step:20100 Loss:0.09815050661563873\n",
            "Epoch:43  Step:20200 Loss:0.09824484586715698\n",
            "Epoch:43  Step:20300 Loss:0.09752769023180008\n",
            "Epoch:43  Step:20400 Loss:0.09918669611215591\n",
            "Epoch:43  Step:20500 Loss:0.09982537478208542\n",
            "Epoch:44  Step:20600 Loss:0.09706108272075653\n",
            "Epoch:44  Step:20700 Loss:0.09613611549139023\n",
            "Epoch:44  Step:20800 Loss:0.09690691530704498\n",
            "Epoch:44  Step:20900 Loss:0.09796416759490967\n",
            "Epoch:44  Step:21000 Loss:0.09864247590303421\n",
            "Epoch:45  Step:21100 Loss:0.09562031924724579\n",
            "Epoch:45  Step:21200 Loss:0.09755607694387436\n",
            "Epoch:45  Step:21300 Loss:0.10069389641284943\n",
            "Epoch:45  Step:21400 Loss:0.09746872633695602\n",
            "Epoch:45  Step:21500 Loss:0.09721927344799042\n",
            "Epoch:46  Step:21600 Loss:0.09525139629840851\n",
            "Epoch:46  Step:21700 Loss:0.0964503213763237\n",
            "Epoch:46  Step:21800 Loss:0.09671444445848465\n",
            "Epoch:46  Step:21900 Loss:0.09707820415496826\n",
            "Epoch:47  Step:22000 Loss:0.0962148979306221\n",
            "Epoch:47  Step:22100 Loss:0.09926220029592514\n",
            "Epoch:47  Step:22200 Loss:0.09915826469659805\n",
            "Epoch:47  Step:22300 Loss:0.09672188013792038\n",
            "Epoch:47  Step:22400 Loss:0.09589742124080658\n",
            "Epoch:48  Step:22500 Loss:0.09516452252864838\n",
            "Epoch:48  Step:22600 Loss:0.10098158568143845\n",
            "Epoch:48  Step:22700 Loss:0.09813996404409409\n",
            "Epoch:48  Step:22800 Loss:0.09223754703998566\n",
            "Epoch:48  Step:22900 Loss:0.09534448385238647\n",
            "Epoch:49  Step:23000 Loss:0.09781389683485031\n",
            "Epoch:49  Step:23100 Loss:0.0993390753865242\n",
            "Epoch:49  Step:23200 Loss:0.09433550387620926\n",
            "Epoch:49  Step:23300 Loss:0.09219872206449509\n",
            "Epoch:49  Step:23400 Loss:0.09461737424135208\n"
          ]
        }
      ],
      "source": [
        "pixelcnn_train(pixcel_cnn_residual,loss_bce)"
      ]
    },
    {
      "cell_type": "code",
      "execution_count": 23,
      "metadata": {
        "id": "kC6OuYfLaKXe"
      },
      "outputs": [],
      "source": [
        "images_res = generate_img(pixcel_cnn_residual,10,28,28)"
      ]
    },
    {
      "cell_type": "code",
      "execution_count": 24,
      "metadata": {
        "colab": {
          "base_uri": "https://localhost:8080/",
          "height": 1000
        },
        "id": "r9TH9yZpb5Jt",
        "outputId": "4879ffc4-2619-4236-dcee-3460b23c1cd7"
      },
      "outputs": [
        {
          "data": {
            "image/png": "[encoded data removed]",
            "text/plain": [
              "<Figure size 216x216 with 1 Axes>"
            ]
          },
          "metadata": {
            "needs_background": "light",
            "tags": []
          },
          "output_type": "display_data"
        },
        {
          "data": {
            "image/png": "[encoded data removed]",
            "text/plain": [
              "<Figure size 216x216 with 1 Axes>"
            ]
          },
          "metadata": {
            "needs_background": "light",
            "tags": []
          },
          "output_type": "display_data"
        },
        {
          "data": {
            "image/png": "[encoded data removed]",
            "text/plain": [
              "<Figure size 216x216 with 1 Axes>"
            ]
          },
          "metadata": {
            "needs_background": "light",
            "tags": []
          },
          "output_type": "display_data"
        },
        {
          "data": {
            "image/png": "[encoded data removed]",
            "text/plain": [
              "<Figure size 216x216 with 1 Axes>"
            ]
          },
          "metadata": {
            "needs_background": "light",
            "tags": []
          },
          "output_type": "display_data"
        },
        {
          "data": {
            "image/png": "[encoded data removed]",
            "text/plain": [
              "<Figure size 216x216 with 1 Axes>"
            ]
          },
          "metadata": {
            "needs_background": "light",
            "tags": []
          },
          "output_type": "display_data"
        },
        {
          "data": {
            "image/png": "[encoded data removed]",
            "text/plain": [
              "<Figure size 216x216 with 1 Axes>"
            ]
          },
          "metadata": {
            "needs_background": "light",
            "tags": []
          },
          "output_type": "display_data"
        },
        {
          "data": {
            "image/png": "[encoded data removed]",
            "text/plain": [
              "<Figure size 216x216 with 1 Axes>"
            ]
          },
          "metadata": {
            "needs_background": "light",
            "tags": []
          },
          "output_type": "display_data"
        },
        {
          "data": {
            "image/png": "[encoded data removed]",
            "text/plain": [
              "<Figure size 216x216 with 1 Axes>"
            ]
          },
          "metadata": {
            "needs_background": "light",
            "tags": []
          },
          "output_type": "display_data"
        },
        {
          "data": {
            "image/png": "[encoded data removed]",
            "text/plain": [
              "<Figure size 216x216 with 1 Axes>"
            ]
          },
          "metadata": {
            "needs_background": "light",
            "tags": []
          },
          "output_type": "display_data"
        },
        {
          "data": {
            "image/png": "[encoded data removed]",
            "text/plain": [
              "<Figure size 216x216 with 1 Axes>"
            ]
          },
          "metadata": {
            "needs_background": "light",
            "tags": []
          },
          "output_type": "display_data"
        }
      ],
      "source": [
        "figsize = 3\n",
        "for img in images_res:\n",
        "  plt.figure(figsize=(figsize, figsize));\n",
        "  img = img.reshape(28,28)\n",
        "  plt.imshow(img,cmap='gray')\n",
        "  plt.show()"
      ]
    }
  ],
  "metadata": {
    "accelerator": "GPU",
    "colab": {
      "collapsed_sections": [],
      "name": "Pixcel_CNN_LGM.ipynb",
      "provenance": []
    },
    "kernelspec": {
      "display_name": "Python 3",
      "name": "python3"
    },
    "language_info": {
      "name": "python"
    }
  },
  "nbformat": 4,
  "nbformat_minor": 0
}
