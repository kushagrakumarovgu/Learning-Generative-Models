{
  "cells": [
    {
      "cell_type": "markdown",
      "metadata": {},
      "source": [
        "Problem statement: https://ovgu-ailab.github.io/lgm2021/ass1.html"
      ]
    },
    {
      "cell_type": "code",
      "execution_count": null,
      "metadata": {
        "id": "3MZtgnupKayB"
      },
      "outputs": [],
      "source": [
        "import numpy as np"
      ]
    },
    {
      "cell_type": "code",
      "execution_count": null,
      "metadata": {
        "id": "GMAC7px_Lw4i"
      },
      "outputs": [],
      "source": [
        "rng = np.random.default_rng(3)"
      ]
    },
    {
      "cell_type": "code",
      "execution_count": null,
      "metadata": {
        "colab": {
          "base_uri": "https://localhost:8080/"
        },
        "id": "rZLrNBqQLyLS",
        "outputId": "f69be617-3fc0-412d-f188-cbd0c7c73918"
      },
      "outputs": [
        {
          "data": {
            "text/plain": [
              "array(['H', 'H', 'H', 'H', 'H', 'H', 'H', 'H', 'H', 'H', 'H', 'H', 'H',\n",
              "       'H', 'H', 'H', 'H', 'H', 'H', 'H'], dtype='<U1')"
            ]
          },
          "execution_count": 5,
          "metadata": {
            "tags": []
          },
          "output_type": "execute_result"
        }
      ],
      "source": [
        "#Take a “population sample” of a specific size (experiment with different sizes!) \n",
        "#where every “generated person” has 1% chance of turning out sick.\n",
        "population = rng.choice(['H','S'],size=10000,p=[0.99,0.01])\n",
        "population[:20]"
      ]
    },
    {
      "cell_type": "code",
      "execution_count": null,
      "metadata": {
        "id": "Q3j8wm13N3vC"
      },
      "outputs": [],
      "source": [
        "vals , freq = np.unique(population,return_counts=True)"
      ]
    },
    {
      "cell_type": "code",
      "execution_count": null,
      "metadata": {
        "colab": {
          "base_uri": "https://localhost:8080/"
        },
        "id": "0qgM-NKjOceq",
        "outputId": "7409da75-a90c-4a14-dcac-a5661c3b27ed"
      },
      "outputs": [
        {
          "data": {
            "text/plain": [
              "(array(['H', 'S'], dtype='<U1'), array([9907,   93]))"
            ]
          },
          "execution_count": 7,
          "metadata": {
            "tags": []
          },
          "output_type": "execute_result"
        }
      ],
      "source": [
        "vals,freq"
      ]
    },
    {
      "cell_type": "code",
      "execution_count": null,
      "metadata": {
        "colab": {
          "base_uri": "https://localhost:8080/"
        },
        "id": "xCUz6wkOPASf",
        "outputId": "85480fc2-40a5-4b50-d91a-0c2f8a4c118b"
      },
      "outputs": [
        {
          "data": {
            "text/plain": [
              "10000"
            ]
          },
          "execution_count": 8,
          "metadata": {
            "tags": []
          },
          "output_type": "execute_result"
        }
      ],
      "source": [
        "sum(freq)"
      ]
    },
    {
      "cell_type": "code",
      "execution_count": null,
      "metadata": {
        "colab": {
          "base_uri": "https://localhost:8080/"
        },
        "id": "gNYYoC0WRLuP",
        "outputId": "971f5f50-cf15-40a9-9e7e-02b682bc79b8"
      },
      "outputs": [
        {
          "data": {
            "text/plain": [
              "(93, 9907)"
            ]
          },
          "execution_count": 9,
          "metadata": {
            "tags": []
          },
          "output_type": "execute_result"
        }
      ],
      "source": [
        "actual_sick = sum(population == 'S')\n",
        "actual_healthy = sum(population == 'H')\n",
        "actual_sick , actual_healthy"
      ]
    },
    {
      "cell_type": "code",
      "execution_count": null,
      "metadata": {
        "colab": {
          "base_uri": "https://localhost:8080/"
        },
        "id": "DsF6UerxOeeh",
        "outputId": "0f58992d-08b1-4d7e-9dca-6f19eb4c5fbd"
      },
      "outputs": [
        {
          "data": {
            "text/plain": [
              "0.0093"
            ]
          },
          "execution_count": 10,
          "metadata": {
            "tags": []
          },
          "output_type": "execute_result"
        }
      ],
      "source": [
        "prob_s = sum(population == 'S') / sum(freq)\n",
        "prob_s"
      ]
    },
    {
      "cell_type": "code",
      "execution_count": null,
      "metadata": {
        "colab": {
          "base_uri": "https://localhost:8080/"
        },
        "id": "h4qIAlfGOw_f",
        "outputId": "05915c9f-fa6d-4979-a1e3-c1b4ffefd752"
      },
      "outputs": [
        {
          "data": {
            "text/plain": [
              "0.9907"
            ]
          },
          "execution_count": 11,
          "metadata": {
            "tags": []
          },
          "output_type": "execute_result"
        }
      ],
      "source": [
        "prob_h = sum(population == 'H') / sum(freq)\n",
        "prob_h"
      ]
    },
    {
      "cell_type": "code",
      "execution_count": null,
      "metadata": {
        "id": "xFfscfoAPa2x"
      },
      "outputs": [],
      "source": [
        "#Test your “people” – if they are sick, the test should have a 99.9% chance of \n",
        "#returning a positive result; if they are healthy, it should be 1%.\n",
        "positive = list()\n",
        "negative = list()\n",
        "for p in population:\n",
        "  if p == 'S':\n",
        "    positive.append(rng.choice(['+','-'],p=[0.999,0.001]))\n",
        "  else:\n",
        "    negative.append(rng.choice(['+','-'],p=[0.01,0.99]))\n"
      ]
    },
    {
      "cell_type": "code",
      "execution_count": null,
      "metadata": {
        "colab": {
          "base_uri": "https://localhost:8080/"
        },
        "id": "wHAuNLW4PeFs",
        "outputId": "3b5acffb-5954-45c3-dda5-12e843d35bf8"
      },
      "outputs": [
        {
          "data": {
            "text/plain": [
              "(array(['+'], dtype='<U1'), array([93]))"
            ]
          },
          "execution_count": 13,
          "metadata": {
            "tags": []
          },
          "output_type": "execute_result"
        }
      ],
      "source": [
        "v , f = np.unique(positive,return_counts=True)\n",
        "v , f"
      ]
    },
    {
      "cell_type": "code",
      "execution_count": null,
      "metadata": {
        "colab": {
          "base_uri": "https://localhost:8080/"
        },
        "id": "6uoVJaavZgHZ",
        "outputId": "e2d63e94-698b-4d38-b20b-346a66b40beb"
      },
      "outputs": [
        {
          "data": {
            "text/plain": [
              "93"
            ]
          },
          "execution_count": 14,
          "metadata": {
            "tags": []
          },
          "output_type": "execute_result"
        }
      ],
      "source": [
        "sum(np.array(positive) == '+')"
      ]
    },
    {
      "cell_type": "code",
      "execution_count": null,
      "metadata": {
        "colab": {
          "base_uri": "https://localhost:8080/"
        },
        "id": "orARKZ5pVse6",
        "outputId": "6a755e75-a58b-46ea-d652-0581b80d3bff"
      },
      "outputs": [
        {
          "data": {
            "text/plain": [
              "(array(['+', '-'], dtype='<U1'), array([ 107, 9800]))"
            ]
          },
          "execution_count": 15,
          "metadata": {
            "tags": []
          },
          "output_type": "execute_result"
        }
      ],
      "source": [
        "v1 , f1 = np.unique(negative,return_counts=True)\n",
        "v1 , f1 "
      ]
    },
    {
      "cell_type": "code",
      "execution_count": null,
      "metadata": {
        "colab": {
          "base_uri": "https://localhost:8080/"
        },
        "id": "daf_XdNQWplz",
        "outputId": "2d97385f-272e-49bf-a5f0-ac028499fc46"
      },
      "outputs": [
        {
          "data": {
            "text/plain": [
              "9907"
            ]
          },
          "execution_count": 16,
          "metadata": {
            "tags": []
          },
          "output_type": "execute_result"
        }
      ],
      "source": [
        "sum(f1)"
      ]
    },
    {
      "cell_type": "code",
      "execution_count": null,
      "metadata": {
        "colab": {
          "base_uri": "https://localhost:8080/"
        },
        "id": "_LqsxSzsWvnq",
        "outputId": "35539a4f-5f5a-4037-e8c5-ce44eb0c4687"
      },
      "outputs": [
        {
          "data": {
            "text/plain": [
              "200"
            ]
          },
          "execution_count": 17,
          "metadata": {
            "tags": []
          },
          "output_type": "execute_result"
        }
      ],
      "source": [
        "# Out of all people that have been tested sick, get the proportion of people that is actually sick.\n",
        "tested_sick = sum(np.array(positive) == '+') + sum(np.array(negative) == '+')\n",
        "tested_sick"
      ]
    },
    {
      "cell_type": "code",
      "execution_count": null,
      "metadata": {
        "colab": {
          "base_uri": "https://localhost:8080/"
        },
        "id": "SEC35fb2ZPCz",
        "outputId": "6f78c91d-e66f-4d22-869a-f6901672c8ae"
      },
      "outputs": [
        {
          "data": {
            "text/plain": [
              "0.465"
            ]
          },
          "execution_count": 18,
          "metadata": {
            "tags": []
          },
          "output_type": "execute_result"
        }
      ],
      "source": [
        "prop_actual_sick = actual_sick / tested_sick\n",
        "prop_actual_sick"
      ]
    },
    {
      "cell_type": "code",
      "execution_count": null,
      "metadata": {
        "id": "aj99Iy4saplk"
      },
      "outputs": [],
      "source": [
        "import scipy as sp\n",
        "#from scipy.stats import norm,multivariate_normal"
      ]
    },
    {
      "cell_type": "code",
      "execution_count": null,
      "metadata": {
        "colab": {
          "base_uri": "https://localhost:8080/"
        },
        "id": "4rMJq0jgTR3S",
        "outputId": "f2de9b8e-82d3-44a7-80f0-c1903ff0cd35"
      },
      "outputs": [
        {
          "data": {
            "text/plain": [
              "array([[2, 0],\n",
              "       [0, 2]])"
            ]
          },
          "execution_count": 25,
          "metadata": {
            "tags": []
          },
          "output_type": "execute_result"
        }
      ],
      "source": [
        "mu_a = 1\n",
        "mu_b = -1\n",
        "cov_matrix = np.array([[2,0],[0,2]])\n",
        "cov_matrix"
      ]
    },
    {
      "cell_type": "code",
      "execution_count": null,
      "metadata": {
        "id": "6R9yJL4r5bho"
      },
      "outputs": [],
      "source": [
        "x = sp.stats.multivariate_normal(mean=[mu_a, mu_b],cov=cov_matrix)"
      ]
    },
    {
      "cell_type": "code",
      "execution_count": null,
      "metadata": {
        "colab": {
          "base_uri": "https://localhost:8080/"
        },
        "id": "6BBMiWVO4RWO",
        "outputId": "df0738a6-6d56-4a61-fc22-e04e348725c7"
      },
      "outputs": [
        {
          "data": {
            "text/plain": [
              "0.0065321166423424545"
            ]
          },
          "execution_count": 27,
          "metadata": {
            "tags": []
          },
          "output_type": "execute_result"
        }
      ],
      "source": [
        "x.pdf(2)"
      ]
    },
    {
      "cell_type": "markdown",
      "metadata": {
        "id": "1xSsdbwx2l4G"
      },
      "source": [
        "![image.png](data:image/png;base64,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)"
      ]
    },
    {
      "cell_type": "code",
      "execution_count": null,
      "metadata": {
        "colab": {
          "base_uri": "https://localhost:8080/"
        },
        "id": "13FMsTKD27qt",
        "outputId": "1f701564-45ff-485d-ab82-de6c2b78de09"
      },
      "outputs": [
        {
          "data": {
            "text/plain": [
              "(array([[2, 0],\n",
              "        [0, 2]]), 1, -1)"
            ]
          },
          "execution_count": 28,
          "metadata": {
            "tags": []
          },
          "output_type": "execute_result"
        }
      ],
      "source": [
        "cov_matrix,mu_a,mu_b"
      ]
    },
    {
      "cell_type": "code",
      "execution_count": null,
      "metadata": {
        "colab": {
          "base_uri": "https://localhost:8080/"
        },
        "id": "IGISnpY90TaU",
        "outputId": "3357cee3-28e7-4f5a-cc67-8818f6fdc1fa"
      },
      "outputs": [
        {
          "data": {
            "text/plain": [
              "array([[1, 0],\n",
              "       [0, 1]])"
            ]
          },
          "execution_count": 29,
          "metadata": {
            "tags": []
          },
          "output_type": "execute_result"
        }
      ],
      "source": [
        "cov_matrix = np.array([[1,0],[0,1]])\n",
        "mu_a = 1\n",
        "mu_b = -1\n",
        "cov_matrix"
      ]
    },
    {
      "cell_type": "code",
      "execution_count": null,
      "metadata": {
        "id": "1MvpzUbY5fH9"
      },
      "outputs": [],
      "source": [
        "def get_mu_sigma(mu_a,b,mu_b,cov_matrix):\n",
        "  mu_a_g_b = mu_a + (cov_matrix[0][1]*(b - mu_b))/cov_matrix[1][1]\n",
        "  sigma_a_g_b = cov_matrix[0][0] - (cov_matrix[0][1] / cov_matrix[1][1]) * cov_matrix[1][0]\n",
        "\n",
        "  return mu_a_g_b,sigma_a_g_b "
      ]
    },
    {
      "cell_type": "code",
      "execution_count": null,
      "metadata": {
        "colab": {
          "base_uri": "https://localhost:8080/"
        },
        "id": "f5iikkXP4a0p",
        "outputId": "ed3a56a7-e1d3-491e-fa95-62cfb8a91c6d"
      },
      "outputs": [
        {
          "name": "stdout",
          "output_type": "stream",
          "text": [
            "1.0 1.0\n",
            "0.3520653267642995\n"
          ]
        }
      ],
      "source": [
        "#sp.stats.multivariate_normal()\n",
        "# p(x1 = 0.5 | x2 = -0.3)\n",
        "mu_a_g_b,sigma_a_g_b = get_mu_sigma(mu_a,-0.3,mu_b,cov_matrix)\n",
        "print(mu_a_g_b,sigma_a_g_b)\n",
        "\n",
        "nor_dist = sp.stats.norm(loc=mu_a_g_b,scale=sigma_a_g_b)\n",
        "print(nor_dist.pdf(0.5))\n",
        "# P()\n",
        "#np.random.multivariate_normal()"
      ]
    },
    {
      "cell_type": "markdown",
      "metadata": {
        "id": "t6ITlAjvFBDr"
      },
      "source": [
        "![image.png](data:image/png;base64,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)"
      ]
    },
    {
      "cell_type": "code",
      "execution_count": null,
      "metadata": {
        "id": "4cGq70A6KmTx"
      },
      "outputs": [],
      "source": [
        "def numerator(mu_a,mu_b,a,b,cov_matrix,pi):\n",
        "  sum = 0\n",
        "  for idx in range(len(mu_b)):\n",
        "    norm_dist_b = sp.stats.norm(loc=mu_b[idx],scale=cov_matrix[1][1])\n",
        "    val_1 = norm_dist_b.pdf(b)\n",
        "    mu_a_g_b,sigma_a_g_b = get_mu_sigma(mu_a[idx],b,mu_b[idx],cov_matrix)\n",
        "    norm_dist_a = sp.stats.norm(loc=mu_a_g_b,scale=sigma_a_g_b)\n",
        "    val_2 = norm_dist_a.pdf(a)\n",
        "    print(\"val_2: \",val_2)\n",
        "    sum += pi * val_1 * val_2\n",
        "  \n",
        "  return sum"
      ]
    },
    {
      "cell_type": "code",
      "execution_count": null,
      "metadata": {
        "id": "gDVltjCJQoqe"
      },
      "outputs": [],
      "source": [
        "def denominator(mu_b,b,cov_matrix,pi):\n",
        "  sum = 0\n",
        "  #sl = list()\n",
        "  #print(\"len(mu_b): \", len(mu_b))\n",
        "  for idx in range(len(mu_b)):\n",
        "    norm_dist_b = sp.stats.norm(loc=mu_b[idx],scale=cov_matrix[1][1])\n",
        "    val_1 = norm_dist_b.pdf(b)\n",
        "    #print(\"val_1: \",val_1)\n",
        "    sum += pi * val_1\n",
        "    #sl.append(pi * val_1)\n",
        "  #print(\"sum: \",sum)\n",
        "  #print(sl)\n",
        "  return sum\n",
        "\n",
        "\n"
      ]
    },
    {
      "cell_type": "code",
      "execution_count": null,
      "metadata": {
        "id": "P54iqX7NygmA"
      },
      "outputs": [],
      "source": [
        "#Assume the first mixture component has mu_a = (1, 1) and the second one has mu_b = (-1, -1).\n",
        "#Both components have sigma = 0.5. The prior mixture weights are 0.5, i.e. both components are weighted equally.\n",
        "# p(x1 = 0.5 | x2 = -0.3)\n",
        "def MGM(mu_a,mu_b,a,b,cov_matrix,pi):\n",
        "  numerator_equ = numerator(mu_a,mu_b,a,b,cov_matrix,pi)\n",
        "  print(\"numerator: \",numerator_equ)\n",
        "  denominator_equ = denominator(mu_b,b,cov_matrix,pi)\n",
        "  #print(\"denominator: \",denominator_equ)\n",
        "\n",
        "  return numerator_equ / denominator_equ"
      ]
    },
    {
      "cell_type": "code",
      "execution_count": null,
      "metadata": {
        "colab": {
          "base_uri": "https://localhost:8080/"
        },
        "id": "-eSP85ngSXTs",
        "outputId": "089fd169-7054-45a9-856a-b8c38f7267de"
      },
      "outputs": [
        {
          "name": "stdout",
          "output_type": "stream",
          "text": [
            "val_2:  0.48394144903828673\n",
            "val_2:  0.48394144903828673\n",
            "numerator:  0.1449186533611853\n",
            "0.48394144903828673\n"
          ]
        }
      ],
      "source": [
        "mu_a = (1,1)\n",
        "mu_b = (-1,-1)\n",
        "a = 0.5\n",
        "b = -0.3\n",
        "pi = 0.5\n",
        "cov_matrix = np.array([[0.5,0],[0,0.5]])\n",
        "prob_a_g_b = MGM(mu_a,mu_b,a,b,cov_matrix,pi)\n",
        "print(prob_a_g_b)"
      ]
    },
    {
      "cell_type": "code",
      "execution_count": null,
      "metadata": {
        "colab": {
          "base_uri": "https://localhost:8080/"
        },
        "id": "rmYn5VKSS1lQ",
        "outputId": "880627e0-68ac-4e82-86de-5369727a447e"
      },
      "outputs": [
        {
          "data": {
            "text/plain": [
              "0.0"
            ]
          },
          "execution_count": 73,
          "metadata": {
            "tags": []
          },
          "output_type": "execute_result"
        }
      ],
      "source": [
        "cov_matrix[0,1]"
      ]
    },
    {
      "cell_type": "code",
      "execution_count": null,
      "metadata": {
        "colab": {
          "base_uri": "https://localhost:8080/"
        },
        "id": "rt8ycVqdUUPZ",
        "outputId": "38f93225-9ecc-40fa-d015-313a05512639"
      },
      "outputs": [
        {
          "data": {
            "text/plain": [
              "0.29945493127148975"
            ]
          },
          "execution_count": 74,
          "metadata": {
            "tags": []
          },
          "output_type": "execute_result"
        }
      ],
      "source": [
        "sp.stats.norm(-1,0.5).pdf(-0.3)"
      ]
    },
    {
      "cell_type": "code",
      "execution_count": null,
      "metadata": {
        "colab": {
          "base_uri": "https://localhost:8080/"
        },
        "id": "4dSpBzkBaNr5",
        "outputId": "26de6441-f6d4-48f1-8bee-568444680b95"
      },
      "outputs": [
        {
          "name": "stdout",
          "output_type": "stream",
          "text": [
            "val_2:  0.48394144903828673\n",
            "val_2:  0.48394144903828673\n",
            "numerator:  0.1449186533611853\n"
          ]
        },
        {
          "data": {
            "text/plain": [
              "0.48394144903828673"
            ]
          },
          "execution_count": 86,
          "metadata": {
            "tags": []
          },
          "output_type": "execute_result"
        }
      ],
      "source": [
        "a = 1.5\n",
        "b = -0.3\n",
        "prob_a_g_b = MGM(mu_a,mu_b,a,b,cov_matrix,pi)\n",
        "prob_a_g_b"
      ]
    },
    {
      "cell_type": "code",
      "execution_count": null,
      "metadata": {
        "colab": {
          "base_uri": "https://localhost:8080/"
        },
        "id": "mt6fBKxtgj37",
        "outputId": "b2600f7c-247c-4a30-9b61-4244ee28b02a"
      },
      "outputs": [
        {
          "name": "stdout",
          "output_type": "stream",
          "text": [
            "val_2:  0.008863696823876015\n",
            "val_2:  0.008863696823876015\n",
            "numerator:  0.0026542777232051143\n"
          ]
        },
        {
          "data": {
            "text/plain": [
              "0.008863696823876015"
            ]
          },
          "execution_count": 84,
          "metadata": {
            "tags": []
          },
          "output_type": "execute_result"
        }
      ],
      "source": [
        "a = -0.5\n",
        "b = -0.3\n",
        "prob_a_g_b = MGM(mu_a,mu_b,a,b,cov_matrix,pi)\n",
        "prob_a_g_b"
      ]
    },
    {
      "cell_type": "markdown",
      "metadata": {
        "id": "97gcHyBO0A-X"
      },
      "source": [
        "Consider the general case, where you have a model p(x) and want to find the conditional distribution of some subset of variables given the remaining ones. Why is this difficult (often impossible) to compute?"
      ]
    },
    {
      "cell_type": "markdown",
      "metadata": {
        "id": "tL56ZLL-0DbE"
      },
      "source": [
        "Answer: Ref: NPTEL Lecture  (https://www.youtube.com/watch?v=JpC2Eq6vnns&list=PL3pGy4HtqwD2kwldm81pszxZDJANK3uGV&index=122 [link text](https://))\n",
        "\n",
        "Computational: Expensive to manupulate and too large to store.\n",
        "\n",
        "Cognative: Impossible to acquire so many numbers from human.\n",
        "\n",
        "statistical: Require huge amount of data to learn the parameters."
      ]
    },
    {
      "cell_type": "code",
      "execution_count": null,
      "metadata": {
        "id": "fNqamuqfgpz7"
      },
      "outputs": [],
      "source": []
    }
  ],
  "metadata": {
    "colab": {
      "collapsed_sections": [],
      "name": "Assignment_1_Probability.ipynb",
      "provenance": []
    },
    "kernelspec": {
      "display_name": "Python 3",
      "name": "python3"
    },
    "language_info": {
      "name": "python"
    }
  },
  "nbformat": 4,
  "nbformat_minor": 0
}
