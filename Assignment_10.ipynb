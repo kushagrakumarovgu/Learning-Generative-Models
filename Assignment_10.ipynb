{
  "cells": [
    {
      "cell_type": "markdown",
      "metadata": {
        "id": "JGIgfxE63gnP"
      },
      "source": [
        "Problem statement: https://ovgu-ailab.github.io/lgm2021/ass10.html"
      ]
    },
    {
      "cell_type": "code",
      "execution_count": 1,
      "metadata": {
        "id": "6Up6D02kn5dJ",
        "vscode": {
          "languageId": "python"
        }
      },
      "outputs": [],
      "source": [
        "import tensorflow as tf\n",
        "from tensorflow import keras\n",
        "from tensorflow.keras.models import Sequential\n",
        "from tensorflow.keras.optimizers import Adam\n",
        "from tensorflow.keras.metrics import categorical_crossentropy\n",
        "import numpy as np\n",
        "import matplotlib.pyplot as plt\n",
        "import tensorflow_probability as tfp"
      ]
    },
    {
      "cell_type": "code",
      "execution_count": 2,
      "metadata": {
        "colab": {
          "base_uri": "https://localhost:8080/"
        },
        "id": "bsc9xoZKn7zX",
        "outputId": "b7957ed6-b7fc-49c3-c77f-f03a9222aa86",
        "vscode": {
          "languageId": "python"
        }
      },
      "outputs": [
        {
          "name": "stdout",
          "output_type": "stream",
          "text": [
            "Number of GPUs Available:  1\n"
          ]
        }
      ],
      "source": [
        "physical_devices = tf.config.experimental.list_physical_devices('GPU')\n",
        "print(\"Number of GPUs Available: \",len(physical_devices))\n",
        "tf.config.experimental.set_memory_growth(physical_devices[0],True)"
      ]
    },
    {
      "cell_type": "code",
      "execution_count": 3,
      "metadata": {
        "colab": {
          "base_uri": "https://localhost:8080/",
          "height": 366
        },
        "id": "d0AM0qUYoEEZ",
        "outputId": "c605e1b2-ed15-4f63-e95d-6ca97ffd8fa5",
        "vscode": {
          "languageId": "python"
        }
      },
      "outputs": [
        {
          "name": "stdout",
          "output_type": "stream",
          "text": [
            "Downloading data from https://storage.googleapis.com/tensorflow/tf-keras-datasets/mnist.npz\n",
            "11493376/11490434 [==============================] - 0s 0us/step\n",
            "(60000, 28, 28)\n",
            "(60000,)\n",
            "(28, 28)\n"
          ]
        },
        {
          "data": {
            "text/plain": [
              "<matplotlib.image.AxesImage at 0x7f70c10f7910>"
            ]
          },
          "execution_count": 3,
          "metadata": {
            "tags": []
          },
          "output_type": "execute_result"
        },
        {
          "data": {
            "image/png": "[encoded data removed]",
            "text/plain": [
              "<Figure size 432x288 with 1 Axes>"
            ]
          },
          "metadata": {
            "needs_background": "light",
            "tags": []
          },
          "output_type": "display_data"
        }
      ],
      "source": [
        "# Load MNIST Data set.\n",
        "mnist = tf.keras.datasets.mnist\n",
        "(train_images, train_labels), (test_images, test_labels) = mnist.load_data()\n",
        "\n",
        "print(train_images.shape)\n",
        "print(train_labels.shape)\n",
        "print(train_images[0].shape)\n",
        "#show the first image.\n",
        "plt.imshow(train_images[0])"
      ]
    },
    {
      "cell_type": "code",
      "execution_count": 4,
      "metadata": {
        "id": "oBtx5Yu7Tr0N",
        "vscode": {
          "languageId": "python"
        }
      },
      "outputs": [],
      "source": [
        "from sklearn.preprocessing import Binarizer\n",
        "bin = Binarizer(threshold=0.5)\n",
        "def reshape_img(data):\n",
        "  nsamples , nx , ny = data.shape\n",
        "  return data.reshape(data.shape[0], nx, ny,1).astype('float32') / 255.0"
      ]
    },
    {
      "cell_type": "code",
      "execution_count": 5,
      "metadata": {
        "colab": {
          "base_uri": "https://localhost:8080/"
        },
        "id": "bmxqkodIZvjU",
        "outputId": "1a24e58a-d395-4033-83dc-2cfd4c6d50c0",
        "vscode": {
          "languageId": "python"
        }
      },
      "outputs": [
        {
          "name": "stdout",
          "output_type": "stream",
          "text": [
            "(60000, 28, 28, 1)\n",
            "(10000, 28, 28, 1)\n"
          ]
        }
      ],
      "source": [
        "train_img = reshape_img(train_images)\n",
        "test_img = reshape_img(test_images)\n",
        "print(train_img.shape)\n",
        "train_data = tf.data.Dataset.from_tensor_slices(train_img.astype(np.float32))\n",
        "train_data = train_data.shuffle(buffer_size=60000).batch(128,drop_remainder=True)\n",
        "\n",
        "print(test_img.shape)\n",
        "#test_data = tf.data.Dataset.from_tensor_slices(test_img.astype(np.float32))\n",
        "#test_data = test_data.shuffle(buffer_size=60000).batch(128,drop_remainder=True)"
      ]
    },
    {
      "cell_type": "code",
      "execution_count": 6,
      "metadata": {
        "id": "7njQsZ8vgxnD",
        "vscode": {
          "languageId": "python"
        }
      },
      "outputs": [],
      "source": [
        "latent_dim = 64"
      ]
    },
    {
      "cell_type": "code",
      "execution_count": 7,
      "metadata": {
        "id": "0XnWV2_sGfTs",
        "vscode": {
          "languageId": "python"
        }
      },
      "outputs": [],
      "source": [
        "def gen_encoder(latent_dim):\n",
        "\n",
        "  input = tf.keras.layers.Input(shape=(28, 28, 1))\n",
        "  x = tf.keras.layers.Conv2D(128, 3, padding='same', activation='relu',strides=(2, 2))(input)\n",
        "  x = tf.keras.layers.BatchNormalization()(x)\n",
        "  x = tf.keras.layers.MaxPooling2D((1, 1), padding='same')(x)\n",
        "\n",
        "  x = tf.keras.layers.Conv2D(64, 3, padding='same', activation='relu',strides=(2, 2))(x)\n",
        "  x = tf.keras.layers.BatchNormalization()(x)\n",
        "  encoder_output = tf.keras.layers.MaxPooling2D((1, 1), padding='same')(x)\n",
        "\n",
        "  #print(\"encoder_output: \",encoder_output.shape)\n",
        "\n",
        "  model = tf.keras.Model(inputs=input,outputs=encoder_output,name=\"encoder\")\n",
        "  model.summary()\n",
        "  \n",
        "  return model , encoder_output\n",
        "\n",
        "#print(\"enc_shape: \",enc_shape)"
      ]
    },
    {
      "cell_type": "code",
      "execution_count": 8,
      "metadata": {
        "colab": {
          "base_uri": "https://localhost:8080/"
        },
        "id": "aCn9XhHmgqKb",
        "outputId": "b269ca79-bb00-4fb7-bfd0-007814f14ab0",
        "vscode": {
          "languageId": "python"
        }
      },
      "outputs": [
        {
          "name": "stdout",
          "output_type": "stream",
          "text": [
            "Model: \"encoder\"\n",
            "_________________________________________________________________\n",
            "Layer (type)                 Output Shape              Param #   \n",
            "=================================================================\n",
            "input_1 (InputLayer)         [(None, 28, 28, 1)]       0         \n",
            "_________________________________________________________________\n",
            "conv2d (Conv2D)              (None, 14, 14, 128)       1280      \n",
            "_________________________________________________________________\n",
            "batch_normalization (BatchNo (None, 14, 14, 128)       512       \n",
            "_________________________________________________________________\n",
            "max_pooling2d (MaxPooling2D) (None, 14, 14, 128)       0         \n",
            "_________________________________________________________________\n",
            "conv2d_1 (Conv2D)            (None, 7, 7, 64)          73792     \n",
            "_________________________________________________________________\n",
            "batch_normalization_1 (Batch (None, 7, 7, 64)          256       \n",
            "_________________________________________________________________\n",
            "max_pooling2d_1 (MaxPooling2 (None, 7, 7, 64)          0         \n",
            "=================================================================\n",
            "Total params: 75,840\n",
            "Trainable params: 75,456\n",
            "Non-trainable params: 384\n",
            "_________________________________________________________________\n"
          ]
        }
      ],
      "source": [
        "encoder, encoder_output = gen_encoder(64)"
      ]
    },
    {
      "cell_type": "code",
      "execution_count": 9,
      "metadata": {
        "colab": {
          "base_uri": "https://localhost:8080/"
        },
        "id": "Br6MjCPBmZ9j",
        "outputId": "67c2d025-0cf0-43b2-f44d-fc96ecf8ac7c",
        "vscode": {
          "languageId": "python"
        }
      },
      "outputs": [
        {
          "data": {
            "text/plain": [
              "(None, 7, 7, 64)"
            ]
          },
          "execution_count": 9,
          "metadata": {
            "tags": []
          },
          "output_type": "execute_result"
        }
      ],
      "source": [
        "encoder.output_shape"
      ]
    },
    {
      "cell_type": "code",
      "execution_count": 10,
      "metadata": {
        "id": "AuI6rpAG87lw",
        "vscode": {
          "languageId": "python"
        }
      },
      "outputs": [],
      "source": [
        "def gen_decoder(latent_dim):\n",
        "  input = tf.keras.layers.Input(shape=encoder.output_shape[1:])\n",
        "\n",
        "  x = tf.keras.layers.Conv2DTranspose(32, 3, padding='same', activation='relu',strides=(2, 2))(input)\n",
        "  x = tf.keras.layers.Conv2DTranspose(32, 3, padding='same', activation='relu',strides=(2, 2))(x)\n",
        "  decoder_output = tf.keras.layers.Conv2DTranspose(1, 3, padding='same', activation='relu')(x)\n",
        "\n",
        "  #print(\"decoder_output: \",decoder_output.shape)\n",
        "  \n",
        "  decoder = tf.keras.Model(inputs=input, outputs=decoder_output,name=\"decoder\")\n",
        "\n",
        "  decoder.summary()\n",
        "  return decoder\n"
      ]
    },
    {
      "cell_type": "code",
      "execution_count": 11,
      "metadata": {
        "colab": {
          "base_uri": "https://localhost:8080/"
        },
        "id": "Cq7ZxaGKlrWW",
        "outputId": "c37b391e-1661-4af6-9524-5b7d3feac441",
        "vscode": {
          "languageId": "python"
        }
      },
      "outputs": [
        {
          "name": "stdout",
          "output_type": "stream",
          "text": [
            "Model: \"decoder\"\n",
            "_________________________________________________________________\n",
            "Layer (type)                 Output Shape              Param #   \n",
            "=================================================================\n",
            "input_2 (InputLayer)         [(None, 7, 7, 64)]        0         \n",
            "_________________________________________________________________\n",
            "conv2d_transpose (Conv2DTran (None, 14, 14, 32)        18464     \n",
            "_________________________________________________________________\n",
            "conv2d_transpose_1 (Conv2DTr (None, 28, 28, 32)        9248      \n",
            "_________________________________________________________________\n",
            "conv2d_transpose_2 (Conv2DTr (None, 28, 28, 1)         289       \n",
            "=================================================================\n",
            "Total params: 28,001\n",
            "Trainable params: 28,001\n",
            "Non-trainable params: 0\n",
            "_________________________________________________________________\n"
          ]
        }
      ],
      "source": [
        "decoder = gen_decoder(64)"
      ]
    },
    {
      "cell_type": "code",
      "execution_count": 12,
      "metadata": {
        "colab": {
          "base_uri": "https://localhost:8080/"
        },
        "id": "hAkukuWRmuxN",
        "outputId": "3c0a6509-568a-4689-b7d8-3b64df41cddb",
        "vscode": {
          "languageId": "python"
        }
      },
      "outputs": [
        {
          "data": {
            "text/plain": [
              "(None, 28, 28, 1)"
            ]
          },
          "execution_count": 12,
          "metadata": {
            "tags": []
          },
          "output_type": "execute_result"
        }
      ],
      "source": [
        "decoder.output_shape"
      ]
    },
    {
      "cell_type": "code",
      "execution_count": 13,
      "metadata": {
        "id": "1sbELYhaXgUh",
        "vscode": {
          "languageId": "python"
        }
      },
      "outputs": [],
      "source": [
        "def read_codebook(encodings, codebook, conv, with_inds=False):\n",
        "    \"\"\"\n",
        "    encodings: What comes out of the encoder. \n",
        "               b x d in the fully-connected case,\n",
        "               b x w x h x d in the convolutional case.\n",
        "    codebook: The K x d codebook matrix.\n",
        "    conv: Bool, use True for the convolutional case!\n",
        "    with_inds: Bool, if True, also returns indices\n",
        "    \n",
        "    Returns codes, codes, and potentially indices. Why codes x2??\n",
        "    - The first instance uses the straight-through estimator so that the gradients pass into the encoder.\n",
        "      You should use this instance of codes to put in your decoder (for the reconstruction loss)\n",
        "    - The second instance does not use this. The problem with the straight-through estimator is that it does **not**\n",
        "      flow gradients into the codebook. That means we cannot use the first return value to train the codebook.\n",
        "      That is why we return codes as-is as well, so we have gradients for the codebook. Use this return value for\n",
        "      the codebook loss!!\n",
        "    \"\"\"\n",
        "    if conv:\n",
        "        distances = tf.reduce_mean(tf.square(encodings[:, :, :, None, :] - codebook[None, None, None, :, :]), axis=-1)\n",
        "    else:\n",
        "        distances = tf.reduce_mean(tf.square(encodings[:, None, :] - codebook[None, :, :]), axis=-1)\n",
        "    #print(\"d\", distances.shape)\n",
        "    min_inds = tf.math.argmin(distances, axis=-1)\n",
        "    #print(\"ind\", min_inds.shape)\n",
        "    codes = tf.gather(codebook, min_inds)\n",
        "    \n",
        "    if with_inds:\n",
        "        return encodings + tf.stop_gradient(codes - encodings), codes, min_inds\n",
        "    else:\n",
        "        return encodings + tf.stop_gradient(codes - encodings), codes"
      ]
    },
    {
      "cell_type": "code",
      "execution_count": 14,
      "metadata": {
        "id": "0SWDg-1OnvhX",
        "vscode": {
          "languageId": "python"
        }
      },
      "outputs": [],
      "source": [
        "def apply_ae(inp, encoder, decoder, codebook, conv, sig=False, training=False):\n",
        "    # note that we return:\n",
        "    # - the output (decoding) because that's what the autoencoder does :)\n",
        "    # - encoder output for loss computations\n",
        "    # - codebook outputs (with gradients) for loss computations\n",
        "    enc = encoder(inp, training=training)\n",
        "    codes, codes_with_grads = read_codebook(enc, codebook, conv=conv)\n",
        "    return decoder(codes, training=training), enc, codes_with_grads"
      ]
    },
    {
      "cell_type": "code",
      "execution_count": 33,
      "metadata": {
        "id": "vS67iyX-p4VY",
        "vscode": {
          "languageId": "python"
        }
      },
      "outputs": [],
      "source": [
        "codebook_size = 256\n",
        "dim_code = encoder.output_shape[-1]\n",
        "codebook = tf.Variable(tf.random.normal([codebook_size, dim_code]))"
      ]
    },
    {
      "cell_type": "code",
      "execution_count": 34,
      "metadata": {
        "id": "cUrqCsmioEL6",
        "vscode": {
          "languageId": "python"
        }
      },
      "outputs": [],
      "source": [
        "epochs = 100\n",
        "beta = 0.25\n",
        "bce_loss = tf.keras.losses.BinaryCrossentropy()\n",
        "optimizer = tf.keras.optimizers.Adam(0.001)"
      ]
    },
    {
      "cell_type": "code",
      "execution_count": 36,
      "metadata": {
        "id": "YTJrWLiQn9GP",
        "vscode": {
          "languageId": "python"
        }
      },
      "outputs": [],
      "source": [
        "def training_loop():\n",
        "\n",
        "  for epoch in range(epochs):\n",
        "    for img_batch in train_data:\n",
        "      with tf.GradientTape() as tape:\n",
        "        reconstruction, enc, codes = apply_ae(img_batch,\n",
        "                                                  encoder,\n",
        "                                                  decoder,\n",
        "                                                  codebook,\n",
        "                                                  conv=True,\n",
        "                                                  training=True)\n",
        "        \n",
        "        \n",
        "        commit_loss = tf.reduce_mean(tf.square(enc - tf.stop_gradient(codes)))\n",
        "        code_loss = tf.reduce_mean(tf.square(tf.stop_gradient(enc) - codes))\n",
        "\n",
        "        recons_loss = tf.reduce_mean(bce_loss(img_batch,reconstruction))\n",
        "        total_loss = code_loss + recons_loss + beta * commit_loss\n",
        "\n",
        "        grads = tape.gradient(total_loss,\n",
        "                              encoder.trainable_variables +\n",
        "                              decoder.trainable_variables +\n",
        "                              [codebook])\n",
        "        \n",
        "        optimizer.apply_gradients(zip(grads,\n",
        "                                  encoder.trainable_variables +\n",
        "                                  decoder.trainable_variables +\n",
        "                                  [codebook]))\n",
        "        \n",
        "\n",
        "    print(\"Epoch:{} Total_loss:{} Recons_loss:{} code_loss:{} commit_loss:{} \".format(epoch,\n",
        "                                                                                      total_loss.numpy(),\n",
        "                                                                                      recons_loss.numpy,\n",
        "                                                                                      code_loss.numpy(),\n",
        "                                                                                      commit_loss.numpy()))  \n",
        "\n",
        "\n",
        "        \n",
        "\n"
      ]
    },
    {
      "cell_type": "code",
      "execution_count": 37,
      "metadata": {
        "colab": {
          "base_uri": "https://localhost:8080/"
        },
        "id": "VhlFUbm10tFM",
        "outputId": "02fa63ee-7648-4706-c5ce-6cdbe3cdeb23",
        "vscode": {
          "languageId": "python"
        }
      },
      "outputs": [
        {
          "name": "stdout",
          "output_type": "stream",
          "text": [
            "Epoch:0 Total_loss:0.4571523666381836 Recons_loss:<bound method _EagerTensorBase.numpy of <tf.Tensor: shape=(), dtype=float32, numpy=0.11501429>> code_loss:0.2737104594707489 commit_loss:0.2737104594707489 \n",
            "Epoch:1 Total_loss:0.3027355670928955 Recons_loss:<bound method _EagerTensorBase.numpy of <tf.Tensor: shape=(), dtype=float32, numpy=0.108354844>> code_loss:0.15550458431243896 commit_loss:0.15550458431243896 \n",
            "Epoch:2 Total_loss:0.2881925106048584 Recons_loss:<bound method _EagerTensorBase.numpy of <tf.Tensor: shape=(), dtype=float32, numpy=0.11313185>> code_loss:0.14004851877689362 commit_loss:0.14004851877689362 \n",
            "Epoch:3 Total_loss:0.22370368242263794 Recons_loss:<bound method _EagerTensorBase.numpy of <tf.Tensor: shape=(), dtype=float32, numpy=0.10554714>> code_loss:0.09452524036169052 commit_loss:0.09452524036169052 \n",
            "Epoch:4 Total_loss:0.20931638777256012 Recons_loss:<bound method _EagerTensorBase.numpy of <tf.Tensor: shape=(), dtype=float32, numpy=0.10305665>> code_loss:0.08500779420137405 commit_loss:0.08500779420137405 \n",
            "Epoch:5 Total_loss:0.20075486600399017 Recons_loss:<bound method _EagerTensorBase.numpy of <tf.Tensor: shape=(), dtype=float32, numpy=0.10944464>> code_loss:0.0730481892824173 commit_loss:0.0730481892824173 \n",
            "Epoch:6 Total_loss:0.2006201446056366 Recons_loss:<bound method _EagerTensorBase.numpy of <tf.Tensor: shape=(), dtype=float32, numpy=0.11391891>> code_loss:0.06936099380254745 commit_loss:0.06936099380254745 \n",
            "Epoch:7 Total_loss:0.197813481092453 Recons_loss:<bound method _EagerTensorBase.numpy of <tf.Tensor: shape=(), dtype=float32, numpy=0.119202584>> code_loss:0.06288871169090271 commit_loss:0.06288871169090271 \n",
            "Epoch:8 Total_loss:0.18192775547504425 Recons_loss:<bound method _EagerTensorBase.numpy of <tf.Tensor: shape=(), dtype=float32, numpy=0.10413417>> code_loss:0.06223486363887787 commit_loss:0.06223486363887787 \n",
            "Epoch:9 Total_loss:0.1891689896583557 Recons_loss:<bound method _EagerTensorBase.numpy of <tf.Tensor: shape=(), dtype=float32, numpy=0.11054839>> code_loss:0.0628964751958847 commit_loss:0.0628964751958847 \n",
            "Epoch:10 Total_loss:0.17914775013923645 Recons_loss:<bound method _EagerTensorBase.numpy of <tf.Tensor: shape=(), dtype=float32, numpy=0.10292571>> code_loss:0.06097763031721115 commit_loss:0.06097763031721115 \n",
            "Epoch:11 Total_loss:0.18485455214977264 Recons_loss:<bound method _EagerTensorBase.numpy of <tf.Tensor: shape=(), dtype=float32, numpy=0.1024363>> code_loss:0.06593460589647293 commit_loss:0.06593460589647293 \n",
            "Epoch:12 Total_loss:0.1899908185005188 Recons_loss:<bound method _EagerTensorBase.numpy of <tf.Tensor: shape=(), dtype=float32, numpy=0.1025347>> code_loss:0.06996489316225052 commit_loss:0.06996489316225052 \n",
            "Epoch:13 Total_loss:0.22350431978702545 Recons_loss:<bound method _EagerTensorBase.numpy of <tf.Tensor: shape=(), dtype=float32, numpy=0.11192694>> code_loss:0.08926190435886383 commit_loss:0.08926190435886383 \n",
            "Epoch:14 Total_loss:0.18755784630775452 Recons_loss:<bound method _EagerTensorBase.numpy of <tf.Tensor: shape=(), dtype=float32, numpy=0.10345631>> code_loss:0.06728121638298035 commit_loss:0.06728121638298035 \n",
            "Epoch:15 Total_loss:0.19203084707260132 Recons_loss:<bound method _EagerTensorBase.numpy of <tf.Tensor: shape=(), dtype=float32, numpy=0.1076759>> code_loss:0.06748395413160324 commit_loss:0.06748395413160324 \n",
            "Epoch:16 Total_loss:0.18106071650981903 Recons_loss:<bound method _EagerTensorBase.numpy of <tf.Tensor: shape=(), dtype=float32, numpy=0.10624319>> code_loss:0.05985401198267937 commit_loss:0.05985401198267937 \n",
            "Epoch:17 Total_loss:0.19250142574310303 Recons_loss:<bound method _EagerTensorBase.numpy of <tf.Tensor: shape=(), dtype=float32, numpy=0.116841696>> code_loss:0.06052778661251068 commit_loss:0.06052778661251068 \n",
            "Epoch:18 Total_loss:0.21738110482692719 Recons_loss:<bound method _EagerTensorBase.numpy of <tf.Tensor: shape=(), dtype=float32, numpy=0.1327472>> code_loss:0.0677071213722229 commit_loss:0.0677071213722229 \n",
            "Epoch:19 Total_loss:0.17628096044063568 Recons_loss:<bound method _EagerTensorBase.numpy of <tf.Tensor: shape=(), dtype=float32, numpy=0.102019385>> code_loss:0.059409257024526596 commit_loss:0.059409257024526596 \n",
            "Epoch:20 Total_loss:0.17556625604629517 Recons_loss:<bound method _EagerTensorBase.numpy of <tf.Tensor: shape=(), dtype=float32, numpy=0.10326923>> code_loss:0.057837627828121185 commit_loss:0.057837627828121185 \n",
            "Epoch:21 Total_loss:0.1757289469242096 Recons_loss:<bound method _EagerTensorBase.numpy of <tf.Tensor: shape=(), dtype=float32, numpy=0.10011723>> code_loss:0.06048938259482384 commit_loss:0.06048938259482384 \n",
            "Epoch:22 Total_loss:0.17673327028751373 Recons_loss:<bound method _EagerTensorBase.numpy of <tf.Tensor: shape=(), dtype=float32, numpy=0.10197838>> code_loss:0.05980392545461655 commit_loss:0.05980392545461655 \n",
            "Epoch:23 Total_loss:0.1759960651397705 Recons_loss:<bound method _EagerTensorBase.numpy of <tf.Tensor: shape=(), dtype=float32, numpy=0.09986393>> code_loss:0.060905709862709045 commit_loss:0.060905709862709045 \n",
            "Epoch:24 Total_loss:0.1726757436990738 Recons_loss:<bound method _EagerTensorBase.numpy of <tf.Tensor: shape=(), dtype=float32, numpy=0.1049554>> code_loss:0.05417628586292267 commit_loss:0.05417628586292267 \n",
            "Epoch:25 Total_loss:0.17662714421749115 Recons_loss:<bound method _EagerTensorBase.numpy of <tf.Tensor: shape=(), dtype=float32, numpy=0.102332205>> code_loss:0.059435952454805374 commit_loss:0.059435952454805374 \n",
            "Epoch:26 Total_loss:0.17819389700889587 Recons_loss:<bound method _EagerTensorBase.numpy of <tf.Tensor: shape=(), dtype=float32, numpy=0.10096266>> code_loss:0.06178499385714531 commit_loss:0.06178499385714531 \n",
            "Epoch:27 Total_loss:0.17777019739151 Recons_loss:<bound method _EagerTensorBase.numpy of <tf.Tensor: shape=(), dtype=float32, numpy=0.10404544>> code_loss:0.05897980183362961 commit_loss:0.05897980183362961 \n",
            "Epoch:28 Total_loss:0.1765276938676834 Recons_loss:<bound method _EagerTensorBase.numpy of <tf.Tensor: shape=(), dtype=float32, numpy=0.098715104>> code_loss:0.06225007399916649 commit_loss:0.06225007399916649 \n",
            "Epoch:29 Total_loss:0.17747648060321808 Recons_loss:<bound method _EagerTensorBase.numpy of <tf.Tensor: shape=(), dtype=float32, numpy=0.09878203>> code_loss:0.06295556575059891 commit_loss:0.06295556575059891 \n",
            "Epoch:30 Total_loss:0.21473686397075653 Recons_loss:<bound method _EagerTensorBase.numpy of <tf.Tensor: shape=(), dtype=float32, numpy=0.12275291>> code_loss:0.07358715683221817 commit_loss:0.07358715683221817 \n",
            "Epoch:31 Total_loss:0.21057181060314178 Recons_loss:<bound method _EagerTensorBase.numpy of <tf.Tensor: shape=(), dtype=float32, numpy=0.13149154>> code_loss:0.06326421350240707 commit_loss:0.06326421350240707 \n",
            "Epoch:32 Total_loss:0.17984235286712646 Recons_loss:<bound method _EagerTensorBase.numpy of <tf.Tensor: shape=(), dtype=float32, numpy=0.101675786>> code_loss:0.06253325194120407 commit_loss:0.06253325194120407 \n",
            "Epoch:33 Total_loss:0.16837537288665771 Recons_loss:<bound method _EagerTensorBase.numpy of <tf.Tensor: shape=(), dtype=float32, numpy=0.09694771>> code_loss:0.05714213475584984 commit_loss:0.05714213475584984 \n",
            "Epoch:34 Total_loss:0.17585428059101105 Recons_loss:<bound method _EagerTensorBase.numpy of <tf.Tensor: shape=(), dtype=float32, numpy=0.100328214>> code_loss:0.060420844703912735 commit_loss:0.060420844703912735 \n",
            "Epoch:35 Total_loss:0.17446327209472656 Recons_loss:<bound method _EagerTensorBase.numpy of <tf.Tensor: shape=(), dtype=float32, numpy=0.101590954>> code_loss:0.05829785391688347 commit_loss:0.05829785391688347 \n",
            "Epoch:36 Total_loss:0.18126563727855682 Recons_loss:<bound method _EagerTensorBase.numpy of <tf.Tensor: shape=(), dtype=float32, numpy=0.10728121>> code_loss:0.05918754264712334 commit_loss:0.05918754264712334 \n",
            "Epoch:37 Total_loss:0.17442381381988525 Recons_loss:<bound method _EagerTensorBase.numpy of <tf.Tensor: shape=(), dtype=float32, numpy=0.09792096>> code_loss:0.061202287673950195 commit_loss:0.061202287673950195 \n",
            "Epoch:38 Total_loss:0.17576950788497925 Recons_loss:<bound method _EagerTensorBase.numpy of <tf.Tensor: shape=(), dtype=float32, numpy=0.09723177>> code_loss:0.06283017992973328 commit_loss:0.06283017992973328 \n",
            "Epoch:39 Total_loss:0.17430371046066284 Recons_loss:<bound method _EagerTensorBase.numpy of <tf.Tensor: shape=(), dtype=float32, numpy=0.096680425>> code_loss:0.062098633497953415 commit_loss:0.062098633497953415 \n",
            "Epoch:40 Total_loss:0.18864494562149048 Recons_loss:<bound method _EagerTensorBase.numpy of <tf.Tensor: shape=(), dtype=float32, numpy=0.11121788>> code_loss:0.06194165349006653 commit_loss:0.06194165349006653 \n",
            "Epoch:41 Total_loss:0.17337258160114288 Recons_loss:<bound method _EagerTensorBase.numpy of <tf.Tensor: shape=(), dtype=float32, numpy=0.09922957>> code_loss:0.05931440740823746 commit_loss:0.05931440740823746 \n",
            "Epoch:42 Total_loss:0.17508122324943542 Recons_loss:<bound method _EagerTensorBase.numpy of <tf.Tensor: shape=(), dtype=float32, numpy=0.09874557>> code_loss:0.06106852367520332 commit_loss:0.06106852367520332 \n",
            "Epoch:43 Total_loss:0.17595411837100983 Recons_loss:<bound method _EagerTensorBase.numpy of <tf.Tensor: shape=(), dtype=float32, numpy=0.10892579>> code_loss:0.05362265557050705 commit_loss:0.05362265557050705 \n",
            "Epoch:44 Total_loss:0.1635114699602127 Recons_loss:<bound method _EagerTensorBase.numpy of <tf.Tensor: shape=(), dtype=float32, numpy=0.09685765>> code_loss:0.05332305654883385 commit_loss:0.05332305654883385 \n",
            "Epoch:45 Total_loss:0.16674795746803284 Recons_loss:<bound method _EagerTensorBase.numpy of <tf.Tensor: shape=(), dtype=float32, numpy=0.09592388>> code_loss:0.056659258902072906 commit_loss:0.056659258902072906 \n",
            "Epoch:46 Total_loss:0.16380943357944489 Recons_loss:<bound method _EagerTensorBase.numpy of <tf.Tensor: shape=(), dtype=float32, numpy=0.09786142>> code_loss:0.05275841802358627 commit_loss:0.05275841802358627 \n",
            "Epoch:47 Total_loss:0.19662544131278992 Recons_loss:<bound method _EagerTensorBase.numpy of <tf.Tensor: shape=(), dtype=float32, numpy=0.11672757>> code_loss:0.06391829997301102 commit_loss:0.06391829997301102 \n",
            "Epoch:48 Total_loss:0.16985830664634705 Recons_loss:<bound method _EagerTensorBase.numpy of <tf.Tensor: shape=(), dtype=float32, numpy=0.10073306>> code_loss:0.05530020222067833 commit_loss:0.05530020222067833 \n",
            "Epoch:49 Total_loss:0.17191950976848602 Recons_loss:<bound method _EagerTensorBase.numpy of <tf.Tensor: shape=(), dtype=float32, numpy=0.10307203>> code_loss:0.055077992379665375 commit_loss:0.055077992379665375 \n",
            "Epoch:50 Total_loss:0.20305030047893524 Recons_loss:<bound method _EagerTensorBase.numpy of <tf.Tensor: shape=(), dtype=float32, numpy=0.13125339>> code_loss:0.05743752047419548 commit_loss:0.05743752047419548 \n",
            "Epoch:51 Total_loss:0.1719989776611328 Recons_loss:<bound method _EagerTensorBase.numpy of <tf.Tensor: shape=(), dtype=float32, numpy=0.099273585>> code_loss:0.0581803023815155 commit_loss:0.0581803023815155 \n",
            "Epoch:52 Total_loss:0.17118749022483826 Recons_loss:<bound method _EagerTensorBase.numpy of <tf.Tensor: shape=(), dtype=float32, numpy=0.10194509>> code_loss:0.05539391562342644 commit_loss:0.05539391562342644 \n",
            "Epoch:53 Total_loss:0.1852857768535614 Recons_loss:<bound method _EagerTensorBase.numpy of <tf.Tensor: shape=(), dtype=float32, numpy=0.116447>> code_loss:0.05507102608680725 commit_loss:0.05507102608680725 \n",
            "Epoch:54 Total_loss:0.16484251618385315 Recons_loss:<bound method _EagerTensorBase.numpy of <tf.Tensor: shape=(), dtype=float32, numpy=0.09451441>> code_loss:0.05626249313354492 commit_loss:0.05626249313354492 \n",
            "Epoch:55 Total_loss:0.1710909903049469 Recons_loss:<bound method _EagerTensorBase.numpy of <tf.Tensor: shape=(), dtype=float32, numpy=0.097483106>> code_loss:0.05888630449771881 commit_loss:0.05888630449771881 \n",
            "Epoch:56 Total_loss:0.19077323377132416 Recons_loss:<bound method _EagerTensorBase.numpy of <tf.Tensor: shape=(), dtype=float32, numpy=0.11219749>> code_loss:0.06286059319972992 commit_loss:0.06286059319972992 \n",
            "Epoch:57 Total_loss:0.17054197192192078 Recons_loss:<bound method _EagerTensorBase.numpy of <tf.Tensor: shape=(), dtype=float32, numpy=0.096289866>> code_loss:0.05940168350934982 commit_loss:0.05940168350934982 \n",
            "Epoch:58 Total_loss:0.16716887056827545 Recons_loss:<bound method _EagerTensorBase.numpy of <tf.Tensor: shape=(), dtype=float32, numpy=0.093697235>> code_loss:0.058777306228876114 commit_loss:0.058777306228876114 \n",
            "Epoch:59 Total_loss:0.1679476797580719 Recons_loss:<bound method _EagerTensorBase.numpy of <tf.Tensor: shape=(), dtype=float32, numpy=0.09463567>> code_loss:0.05864960327744484 commit_loss:0.05864960327744484 \n",
            "Epoch:60 Total_loss:0.18043360114097595 Recons_loss:<bound method _EagerTensorBase.numpy of <tf.Tensor: shape=(), dtype=float32, numpy=0.10778437>> code_loss:0.058119386434555054 commit_loss:0.058119386434555054 \n",
            "Epoch:61 Total_loss:0.1792469173669815 Recons_loss:<bound method _EagerTensorBase.numpy of <tf.Tensor: shape=(), dtype=float32, numpy=0.10750899>> code_loss:0.057390350848436356 commit_loss:0.057390350848436356 \n",
            "Epoch:62 Total_loss:0.18585538864135742 Recons_loss:<bound method _EagerTensorBase.numpy of <tf.Tensor: shape=(), dtype=float32, numpy=0.11516358>> code_loss:0.05655345320701599 commit_loss:0.05655345320701599 \n",
            "Epoch:63 Total_loss:0.18243376910686493 Recons_loss:<bound method _EagerTensorBase.numpy of <tf.Tensor: shape=(), dtype=float32, numpy=0.11029768>> code_loss:0.057708870619535446 commit_loss:0.057708870619535446 \n",
            "Epoch:64 Total_loss:0.17154791951179504 Recons_loss:<bound method _EagerTensorBase.numpy of <tf.Tensor: shape=(), dtype=float32, numpy=0.098842345>> code_loss:0.058164458721876144 commit_loss:0.058164458721876144 \n",
            "Epoch:65 Total_loss:0.1906398981809616 Recons_loss:<bound method _EagerTensorBase.numpy of <tf.Tensor: shape=(), dtype=float32, numpy=0.117274106>> code_loss:0.058692630380392075 commit_loss:0.058692630380392075 \n",
            "Epoch:66 Total_loss:0.17349956929683685 Recons_loss:<bound method _EagerTensorBase.numpy of <tf.Tensor: shape=(), dtype=float32, numpy=0.10304934>> code_loss:0.05636017769575119 commit_loss:0.05636017769575119 \n",
            "Epoch:67 Total_loss:0.17269359529018402 Recons_loss:<bound method _EagerTensorBase.numpy of <tf.Tensor: shape=(), dtype=float32, numpy=0.09716797>> code_loss:0.06042049825191498 commit_loss:0.06042049825191498 \n",
            "Epoch:68 Total_loss:0.168540358543396 Recons_loss:<bound method _EagerTensorBase.numpy of <tf.Tensor: shape=(), dtype=float32, numpy=0.093808055>> code_loss:0.05978584662079811 commit_loss:0.05978584662079811 \n",
            "Epoch:69 Total_loss:0.1685769408941269 Recons_loss:<bound method _EagerTensorBase.numpy of <tf.Tensor: shape=(), dtype=float32, numpy=0.09325644>> code_loss:0.06025639921426773 commit_loss:0.06025639921426773 \n",
            "Epoch:70 Total_loss:0.20688685774803162 Recons_loss:<bound method _EagerTensorBase.numpy of <tf.Tensor: shape=(), dtype=float32, numpy=0.12003307>> code_loss:0.06948302686214447 commit_loss:0.06948302686214447 \n",
            "Epoch:71 Total_loss:0.1696818321943283 Recons_loss:<bound method _EagerTensorBase.numpy of <tf.Tensor: shape=(), dtype=float32, numpy=0.09735046>> code_loss:0.05786510556936264 commit_loss:0.05786510556936264 \n",
            "Epoch:72 Total_loss:0.18062546849250793 Recons_loss:<bound method _EagerTensorBase.numpy of <tf.Tensor: shape=(), dtype=float32, numpy=0.10826609>> code_loss:0.05788750573992729 commit_loss:0.05788750573992729 \n",
            "Epoch:73 Total_loss:0.16852577030658722 Recons_loss:<bound method _EagerTensorBase.numpy of <tf.Tensor: shape=(), dtype=float32, numpy=0.095435806>> code_loss:0.05847197771072388 commit_loss:0.05847197771072388 \n",
            "Epoch:74 Total_loss:0.17243072390556335 Recons_loss:<bound method _EagerTensorBase.numpy of <tf.Tensor: shape=(), dtype=float32, numpy=0.09779842>> code_loss:0.05970583111047745 commit_loss:0.05970583111047745 \n",
            "Epoch:75 Total_loss:0.16948632895946503 Recons_loss:<bound method _EagerTensorBase.numpy of <tf.Tensor: shape=(), dtype=float32, numpy=0.09368696>> code_loss:0.06063949689269066 commit_loss:0.06063949689269066 \n",
            "Epoch:76 Total_loss:0.18043896555900574 Recons_loss:<bound method _EagerTensorBase.numpy of <tf.Tensor: shape=(), dtype=float32, numpy=0.09968599>> code_loss:0.06460238248109818 commit_loss:0.06460238248109818 \n",
            "Epoch:77 Total_loss:0.17451335489749908 Recons_loss:<bound method _EagerTensorBase.numpy of <tf.Tensor: shape=(), dtype=float32, numpy=0.09900113>> code_loss:0.0604097805917263 commit_loss:0.0604097805917263 \n",
            "Epoch:78 Total_loss:0.1828281134366989 Recons_loss:<bound method _EagerTensorBase.numpy of <tf.Tensor: shape=(), dtype=float32, numpy=0.10366442>> code_loss:0.06333096325397491 commit_loss:0.06333096325397491 \n",
            "Epoch:79 Total_loss:0.18250328302383423 Recons_loss:<bound method _EagerTensorBase.numpy of <tf.Tensor: shape=(), dtype=float32, numpy=0.10441827>> code_loss:0.062468018382787704 commit_loss:0.062468018382787704 \n",
            "Epoch:80 Total_loss:0.16930562257766724 Recons_loss:<bound method _EagerTensorBase.numpy of <tf.Tensor: shape=(), dtype=float32, numpy=0.101753764>> code_loss:0.054041482508182526 commit_loss:0.054041482508182526 \n",
            "Epoch:81 Total_loss:0.16617165505886078 Recons_loss:<bound method _EagerTensorBase.numpy of <tf.Tensor: shape=(), dtype=float32, numpy=0.09491735>> code_loss:0.057003453373909 commit_loss:0.057003453373909 \n",
            "Epoch:82 Total_loss:0.16741476953029633 Recons_loss:<bound method _EagerTensorBase.numpy of <tf.Tensor: shape=(), dtype=float32, numpy=0.09734792>> code_loss:0.05605347454547882 commit_loss:0.05605347454547882 \n",
            "Epoch:83 Total_loss:0.16308873891830444 Recons_loss:<bound method _EagerTensorBase.numpy of <tf.Tensor: shape=(), dtype=float32, numpy=0.09544758>> code_loss:0.054112937301397324 commit_loss:0.054112937301397324 \n",
            "Epoch:84 Total_loss:0.17362874746322632 Recons_loss:<bound method _EagerTensorBase.numpy of <tf.Tensor: shape=(), dtype=float32, numpy=0.102498055>> code_loss:0.05690455436706543 commit_loss:0.05690455436706543 \n",
            "Epoch:85 Total_loss:0.16548481583595276 Recons_loss:<bound method _EagerTensorBase.numpy of <tf.Tensor: shape=(), dtype=float32, numpy=0.09780136>> code_loss:0.05414676293730736 commit_loss:0.05414676293730736 \n",
            "Epoch:86 Total_loss:0.17226727306842804 Recons_loss:<bound method _EagerTensorBase.numpy of <tf.Tensor: shape=(), dtype=float32, numpy=0.097706355>> code_loss:0.059648726135492325 commit_loss:0.059648726135492325 \n",
            "Epoch:87 Total_loss:0.17301087081432343 Recons_loss:<bound method _EagerTensorBase.numpy of <tf.Tensor: shape=(), dtype=float32, numpy=0.10262737>> code_loss:0.056306805461645126 commit_loss:0.056306805461645126 \n",
            "Epoch:88 Total_loss:0.16647863388061523 Recons_loss:<bound method _EagerTensorBase.numpy of <tf.Tensor: shape=(), dtype=float32, numpy=0.09879994>> code_loss:0.05414296314120293 commit_loss:0.05414296314120293 \n",
            "Epoch:89 Total_loss:0.17340044677257538 Recons_loss:<bound method _EagerTensorBase.numpy of <tf.Tensor: shape=(), dtype=float32, numpy=0.10148168>> code_loss:0.05753501504659653 commit_loss:0.05753501504659653 \n",
            "Epoch:90 Total_loss:0.17732465267181396 Recons_loss:<bound method _EagerTensorBase.numpy of <tf.Tensor: shape=(), dtype=float32, numpy=0.101305425>> code_loss:0.06081537902355194 commit_loss:0.06081537902355194 \n",
            "Epoch:91 Total_loss:0.1696666181087494 Recons_loss:<bound method _EagerTensorBase.numpy of <tf.Tensor: shape=(), dtype=float32, numpy=0.097166836>> code_loss:0.05799982324242592 commit_loss:0.05799982324242592 \n",
            "Epoch:92 Total_loss:0.16832101345062256 Recons_loss:<bound method _EagerTensorBase.numpy of <tf.Tensor: shape=(), dtype=float32, numpy=0.094345346>> code_loss:0.05918052792549133 commit_loss:0.05918052792549133 \n",
            "Epoch:93 Total_loss:0.17399370670318604 Recons_loss:<bound method _EagerTensorBase.numpy of <tf.Tensor: shape=(), dtype=float32, numpy=0.100363255>> code_loss:0.058904364705085754 commit_loss:0.058904364705085754 \n",
            "Epoch:94 Total_loss:0.16718195378780365 Recons_loss:<bound method _EagerTensorBase.numpy of <tf.Tensor: shape=(), dtype=float32, numpy=0.09730502>> code_loss:0.055901553481817245 commit_loss:0.055901553481817245 \n",
            "Epoch:95 Total_loss:0.1714320331811905 Recons_loss:<bound method _EagerTensorBase.numpy of <tf.Tensor: shape=(), dtype=float32, numpy=0.10455237>> code_loss:0.05350372567772865 commit_loss:0.05350372567772865 \n",
            "Epoch:96 Total_loss:0.168316051363945 Recons_loss:<bound method _EagerTensorBase.numpy of <tf.Tensor: shape=(), dtype=float32, numpy=0.10057948>> code_loss:0.05418926477432251 commit_loss:0.05418926477432251 \n",
            "Epoch:97 Total_loss:0.16597740352153778 Recons_loss:<bound method _EagerTensorBase.numpy of <tf.Tensor: shape=(), dtype=float32, numpy=0.09824946>> code_loss:0.05418236553668976 commit_loss:0.05418236553668976 \n",
            "Epoch:98 Total_loss:0.1649812012910843 Recons_loss:<bound method _EagerTensorBase.numpy of <tf.Tensor: shape=(), dtype=float32, numpy=0.09767007>> code_loss:0.053848907351493835 commit_loss:0.053848907351493835 \n",
            "Epoch:99 Total_loss:0.16298386454582214 Recons_loss:<bound method _EagerTensorBase.numpy of <tf.Tensor: shape=(), dtype=float32, numpy=0.09635834>> code_loss:0.053300414234399796 commit_loss:0.053300414234399796 \n"
          ]
        }
      ],
      "source": [
        "training_loop()"
      ]
    },
    {
      "cell_type": "code",
      "execution_count": 41,
      "metadata": {
        "colab": {
          "base_uri": "https://localhost:8080/"
        },
        "id": "YdeTs39gA53t",
        "outputId": "c29a9d88-976c-4f10-d7a8-115eb2e81828",
        "vscode": {
          "languageId": "python"
        }
      },
      "outputs": [
        {
          "data": {
            "text/plain": [
              "TensorShape([256, 64])"
            ]
          },
          "execution_count": 41,
          "metadata": {
            "tags": []
          },
          "output_type": "execute_result"
        }
      ],
      "source": [
        "codebook_size = codebook.shape\n",
        "codebook_size"
      ]
    },
    {
      "cell_type": "code",
      "execution_count": 43,
      "metadata": {
        "colab": {
          "base_uri": "https://localhost:8080/",
          "height": 1000
        },
        "id": "TWFAq4nL_Nqd",
        "outputId": "4ef3ed9f-ef71-424d-fcb3-5a8773598b2c",
        "vscode": {
          "languageId": "python"
        }
      },
      "outputs": [
        {
          "ename": "ValueError",
          "evalue": "ignored",
          "output_type": "error",
          "traceback": [
            "\u001b[0;31m---------------------------------------------------------------------------\u001b[0m",
            "\u001b[0;31mValueError\u001b[0m                                Traceback (most recent call last)",
            "\u001b[0;32m<ipython-input-43-1559759400a2>\u001b[0m in \u001b[0;36m<module>\u001b[0;34m()\u001b[0m\n\u001b[1;32m      9\u001b[0m \u001b[0mplt\u001b[0m\u001b[0;34m.\u001b[0m\u001b[0mfigure\u001b[0m\u001b[0;34m(\u001b[0m\u001b[0mfigsize\u001b[0m\u001b[0;34m=\u001b[0m\u001b[0;34m(\u001b[0m\u001b[0;36m15\u001b[0m\u001b[0;34m,\u001b[0m\u001b[0;36m15\u001b[0m\u001b[0;34m)\u001b[0m\u001b[0;34m)\u001b[0m\u001b[0;34m\u001b[0m\u001b[0;34m\u001b[0m\u001b[0m\n\u001b[1;32m     10\u001b[0m \u001b[0;32mfor\u001b[0m \u001b[0mind\u001b[0m\u001b[0;34m,\u001b[0m \u001b[0mimg\u001b[0m \u001b[0;32min\u001b[0m \u001b[0menumerate\u001b[0m\u001b[0;34m(\u001b[0m\u001b[0msamples\u001b[0m\u001b[0;34m)\u001b[0m\u001b[0;34m:\u001b[0m\u001b[0;34m\u001b[0m\u001b[0;34m\u001b[0m\u001b[0m\n\u001b[0;32m---> 11\u001b[0;31m     \u001b[0mplt\u001b[0m\u001b[0;34m.\u001b[0m\u001b[0msubplot\u001b[0m\u001b[0;34m(\u001b[0m\u001b[0;36m7\u001b[0m\u001b[0;34m,\u001b[0m \u001b[0;36m7\u001b[0m\u001b[0;34m,\u001b[0m \u001b[0mind\u001b[0m\u001b[0;34m+\u001b[0m\u001b[0;36m1\u001b[0m\u001b[0;34m)\u001b[0m\u001b[0;34m\u001b[0m\u001b[0;34m\u001b[0m\u001b[0m\n\u001b[0m\u001b[1;32m     12\u001b[0m     \u001b[0mplt\u001b[0m\u001b[0;34m.\u001b[0m\u001b[0mimshow\u001b[0m\u001b[0;34m(\u001b[0m\u001b[0mimg\u001b[0m\u001b[0;34m.\u001b[0m\u001b[0mreshape\u001b[0m\u001b[0;34m(\u001b[0m\u001b[0;36m28\u001b[0m\u001b[0;34m,\u001b[0m\u001b[0;36m28\u001b[0m\u001b[0;34m)\u001b[0m\u001b[0;34m)\u001b[0m\u001b[0;34m\u001b[0m\u001b[0;34m\u001b[0m\u001b[0m\n\u001b[1;32m     13\u001b[0m     \u001b[0mplt\u001b[0m\u001b[0;34m.\u001b[0m\u001b[0maxis\u001b[0m\u001b[0;34m(\u001b[0m\u001b[0;34m\"off\"\u001b[0m\u001b[0;34m)\u001b[0m\u001b[0;34m\u001b[0m\u001b[0;34m\u001b[0m\u001b[0m\n",
            "\u001b[0;32m/usr/local/lib/python3.7/dist-packages/matplotlib/pyplot.py\u001b[0m in \u001b[0;36msubplot\u001b[0;34m(*args, **kwargs)\u001b[0m\n\u001b[1;32m   1028\u001b[0m \u001b[0;34m\u001b[0m\u001b[0m\n\u001b[1;32m   1029\u001b[0m     \u001b[0mfig\u001b[0m \u001b[0;34m=\u001b[0m \u001b[0mgcf\u001b[0m\u001b[0;34m(\u001b[0m\u001b[0;34m)\u001b[0m\u001b[0;34m\u001b[0m\u001b[0;34m\u001b[0m\u001b[0m\n\u001b[0;32m-> 1030\u001b[0;31m     \u001b[0ma\u001b[0m \u001b[0;34m=\u001b[0m \u001b[0mfig\u001b[0m\u001b[0;34m.\u001b[0m\u001b[0madd_subplot\u001b[0m\u001b[0;34m(\u001b[0m\u001b[0;34m*\u001b[0m\u001b[0margs\u001b[0m\u001b[0;34m,\u001b[0m \u001b[0;34m**\u001b[0m\u001b[0mkwargs\u001b[0m\u001b[0;34m)\u001b[0m\u001b[0;34m\u001b[0m\u001b[0;34m\u001b[0m\u001b[0m\n\u001b[0m\u001b[1;32m   1031\u001b[0m     \u001b[0mbbox\u001b[0m \u001b[0;34m=\u001b[0m \u001b[0ma\u001b[0m\u001b[0;34m.\u001b[0m\u001b[0mbbox\u001b[0m\u001b[0;34m\u001b[0m\u001b[0;34m\u001b[0m\u001b[0m\n\u001b[1;32m   1032\u001b[0m     \u001b[0mbyebye\u001b[0m \u001b[0;34m=\u001b[0m \u001b[0;34m[\u001b[0m\u001b[0;34m]\u001b[0m\u001b[0;34m\u001b[0m\u001b[0;34m\u001b[0m\u001b[0m\n",
            "\u001b[0;32m/usr/local/lib/python3.7/dist-packages/matplotlib/figure.py\u001b[0m in \u001b[0;36madd_subplot\u001b[0;34m(self, *args, **kwargs)\u001b[0m\n\u001b[1;32m   1417\u001b[0m                     \u001b[0mself\u001b[0m\u001b[0;34m.\u001b[0m\u001b[0m_axstack\u001b[0m\u001b[0;34m.\u001b[0m\u001b[0mremove\u001b[0m\u001b[0;34m(\u001b[0m\u001b[0max\u001b[0m\u001b[0;34m)\u001b[0m\u001b[0;34m\u001b[0m\u001b[0;34m\u001b[0m\u001b[0m\n\u001b[1;32m   1418\u001b[0m \u001b[0;34m\u001b[0m\u001b[0m\n\u001b[0;32m-> 1419\u001b[0;31m             \u001b[0ma\u001b[0m \u001b[0;34m=\u001b[0m \u001b[0msubplot_class_factory\u001b[0m\u001b[0;34m(\u001b[0m\u001b[0mprojection_class\u001b[0m\u001b[0;34m)\u001b[0m\u001b[0;34m(\u001b[0m\u001b[0mself\u001b[0m\u001b[0;34m,\u001b[0m \u001b[0;34m*\u001b[0m\u001b[0margs\u001b[0m\u001b[0;34m,\u001b[0m \u001b[0;34m**\u001b[0m\u001b[0mkwargs\u001b[0m\u001b[0;34m)\u001b[0m\u001b[0;34m\u001b[0m\u001b[0;34m\u001b[0m\u001b[0m\n\u001b[0m\u001b[1;32m   1420\u001b[0m \u001b[0;34m\u001b[0m\u001b[0m\n\u001b[1;32m   1421\u001b[0m         \u001b[0;32mreturn\u001b[0m \u001b[0mself\u001b[0m\u001b[0;34m.\u001b[0m\u001b[0m_add_axes_internal\u001b[0m\u001b[0;34m(\u001b[0m\u001b[0mkey\u001b[0m\u001b[0;34m,\u001b[0m \u001b[0ma\u001b[0m\u001b[0;34m)\u001b[0m\u001b[0;34m\u001b[0m\u001b[0;34m\u001b[0m\u001b[0m\n",
            "\u001b[0;32m/usr/local/lib/python3.7/dist-packages/matplotlib/axes/_subplots.py\u001b[0m in \u001b[0;36m__init__\u001b[0;34m(self, fig, *args, **kwargs)\u001b[0m\n\u001b[1;32m     64\u001b[0m                 \u001b[0;32mif\u001b[0m \u001b[0mnum\u001b[0m \u001b[0;34m<\u001b[0m \u001b[0;36m1\u001b[0m \u001b[0;32mor\u001b[0m \u001b[0mnum\u001b[0m \u001b[0;34m>\u001b[0m \u001b[0mrows\u001b[0m\u001b[0;34m*\u001b[0m\u001b[0mcols\u001b[0m\u001b[0;34m:\u001b[0m\u001b[0;34m\u001b[0m\u001b[0;34m\u001b[0m\u001b[0m\n\u001b[1;32m     65\u001b[0m                     raise ValueError(\n\u001b[0;32m---> 66\u001b[0;31m                         f\"num must be 1 <= num <= {rows*cols}, not {num}\")\n\u001b[0m\u001b[1;32m     67\u001b[0m                 self._subplotspec = GridSpec(\n\u001b[1;32m     68\u001b[0m                         rows, cols, figure=self.figure)[int(num) - 1]\n",
            "\u001b[0;31mValueError\u001b[0m: num must be 1 <= num <= 49, not 50"
          ]
        },
        {
          "data": {
            "image/png": "[encoded data removed]",
            "text/plain": [
              "<Figure size 1080x1080 with 49 Axes>"
            ]
          },
          "metadata": {
            "needs_background": "light",
            "tags": []
          },
          "output_type": "display_data"
        }
      ],
      "source": [
        "\n",
        "def noise_fn(x):\n",
        "    categories = tfp.distributions.Categorical(logits=tf.zeros(codebook_size)).sample(x*7*7)\n",
        "    categories = tf.reshape(categories, [-1, 7, 7])\n",
        "    return tf.gather(codebook, categories)\n",
        "\n",
        "s = decoder(noise_fn(7))\n",
        "samples = tf.nn.sigmoid(s).numpy()\n",
        "plt.figure(figsize=(15,15))\n",
        "for ind, img in enumerate(samples):\n",
        "    plt.subplot(7, 7, ind+1)\n",
        "    plt.imshow(img.reshape(28,28))\n",
        "    plt.axis(\"off\")\n",
        "plt.show()"
      ]
    },
    {
      "cell_type": "code",
      "execution_count": 29,
      "metadata": {
        "colab": {
          "base_uri": "https://localhost:8080/"
        },
        "id": "MhtA0mUDCrTx",
        "outputId": "b953c690-75df-49f0-8031-8510903d4aa1",
        "vscode": {
          "languageId": "python"
        }
      },
      "outputs": [
        {
          "data": {
            "text/plain": [
              "(28, 28)"
            ]
          },
          "execution_count": 29,
          "metadata": {
            "tags": []
          },
          "output_type": "execute_result"
        }
      ],
      "source": [
        "x = img.reshape(28,28)\n",
        "x.shape"
      ]
    },
    {
      "cell_type": "code",
      "execution_count": 32,
      "metadata": {
        "colab": {
          "base_uri": "https://localhost:8080/"
        },
        "id": "AVqIjh-HjiCm",
        "outputId": "97262051-a39c-4588-9760-4aac4db92ce1",
        "vscode": {
          "languageId": "python"
        }
      },
      "outputs": [
        {
          "data": {
            "text/plain": [
              "7000"
            ]
          },
          "execution_count": 32,
          "metadata": {
            "tags": []
          },
          "output_type": "execute_result"
        }
      ],
      "source": [
        "len(samples)"
      ]
    },
    {
      "cell_type": "code",
      "execution_count": null,
      "metadata": {
        "id": "3nzW1tJllCf2",
        "vscode": {
          "languageId": "python"
        }
      },
      "outputs": [],
      "source": []
    }
  ],
  "metadata": {
    "accelerator": "GPU",
    "colab": {
      "collapsed_sections": [],
      "name": "Assignment_10.ipynb",
      "provenance": []
    },
    "kernelspec": {
      "display_name": "Python 3.8.3 64-bit",
      "name": "python383jvsc74a57bd01784f50464a290d377b97189f8cc5b1fac9ec055258da1c83eeefa641d3a79e6"
    },
    "metadata": {
      "interpreter": {
        "hash": "1784f50464a290d377b97189f8cc5b1fac9ec055258da1c83eeefa641d3a79e6"
      }
    }
  },
  "nbformat": 4,
  "nbformat_minor": 0
}
