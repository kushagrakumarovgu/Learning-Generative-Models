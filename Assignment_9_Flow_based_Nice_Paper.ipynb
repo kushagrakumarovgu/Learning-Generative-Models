{
  "cells": [
    {
      "cell_type": "markdown",
      "metadata": {},
      "source": [
        "Problem statement: https://ovgu-ailab.github.io/lgm2021/ass9.html"
      ]
    },
    {
      "cell_type": "code",
      "execution_count": null,
      "metadata": {
        "id": "w3kOxRs_QdeT"
      },
      "outputs": [],
      "source": [
        "import tensorflow as tf\n",
        "import tensorflow_probability as tfp\n",
        "tfd = tfp.distributions\n",
        "from matplotlib import pyplot as plt\n",
        "import numpy as np"
      ]
    },
    {
      "cell_type": "code",
      "execution_count": null,
      "metadata": {
        "colab": {
          "base_uri": "https://localhost:8080/"
        },
        "id": "Nysf38YgTq_E",
        "outputId": "4b6a0d72-25cd-49a1-bb4e-750fa159a00d"
      },
      "outputs": [
        {
          "name": "stdout",
          "output_type": "stream",
          "text": [
            "Number of GPUs Available:  1\n"
          ]
        }
      ],
      "source": [
        "physical_devices = tf.config.experimental.list_physical_devices('GPU')\n",
        "print(\"Number of GPUs Available: \",len(physical_devices))\n",
        "#tf.config.experimental.set_memory_growth(physical_devices[0],True)"
      ]
    },
    {
      "cell_type": "code",
      "execution_count": null,
      "metadata": {
        "colab": {
          "base_uri": "https://localhost:8080/",
          "height": 366
        },
        "id": "GWL-6tKBT0uY",
        "outputId": "cce1623b-9da8-4fa2-e4f5-965843bbe864"
      },
      "outputs": [
        {
          "name": "stdout",
          "output_type": "stream",
          "text": [
            "Downloading data from https://storage.googleapis.com/tensorflow/tf-keras-datasets/mnist.npz\n",
            "11493376/11490434 [==============================] - 0s 0us/step\n",
            "(60000, 28, 28)\n",
            "(60000,)\n",
            "train_images[0] shape:  (28, 28)\n"
          ]
        },
        {
          "data": {
            "text/plain": [
              "<matplotlib.image.AxesImage at 0x7f3ea348c750>"
            ]
          },
          "execution_count": 3,
          "metadata": {
            "tags": []
          },
          "output_type": "execute_result"
        },
        {
          "data": {
            "image/png": "[encoded data removed]",
            "text/plain": [
              "<Figure size 432x288 with 1 Axes>"
            ]
          },
          "metadata": {
            "needs_background": "light",
            "tags": []
          },
          "output_type": "display_data"
        }
      ],
      "source": [
        "# Load MNIST Data set.\n",
        "mnist = tf.keras.datasets.mnist\n",
        "(train_images, train_labels), (test_images, test_labels) = mnist.load_data()\n",
        "\n",
        "print(train_images.shape)\n",
        "print(train_labels.shape)\n",
        "print(\"train_images[0] shape: \",train_images[0].shape)\n",
        "#show the first image.\n",
        "plt.imshow(train_images[0])"
      ]
    },
    {
      "cell_type": "code",
      "execution_count": null,
      "metadata": {
        "id": "7H27flGIUF7S"
      },
      "outputs": [],
      "source": [
        "def reshape_img(data):\n",
        "  nsamples , nx , ny = data.shape\n",
        "  return data.reshape(data.shape[0], nx, ny,1).astype('float32') / 255.0"
      ]
    },
    {
      "cell_type": "code",
      "execution_count": null,
      "metadata": {
        "colab": {
          "base_uri": "https://localhost:8080/"
        },
        "id": "kAgbAyG1UKmM",
        "outputId": "2fe5d5da-1a17-4d9d-c737-fb4c146032c0"
      },
      "outputs": [
        {
          "name": "stdout",
          "output_type": "stream",
          "text": [
            "(60000, 28, 28)\n",
            "(60000, 28, 28)\n"
          ]
        }
      ],
      "source": [
        "#train_img = reshape_img(train_images)\n",
        "#test_img = reshape_img(test_images)\n",
        "print(train_images.shape)\n",
        "#train_img = (train_img - 127.5) / 127.5  # Normalize the images to [-1, 1]\n",
        "# train_data = tf.data.Dataset.from_tensor_slices(train_images.astype(np.float32))\n",
        "# train_data = train_data.shuffle(buffer_size=60000).batch(128,drop_remainder=True)\n",
        "\n",
        "print(train_images.shape)"
      ]
    },
    {
      "cell_type": "code",
      "execution_count": null,
      "metadata": {
        "id": "D9ZVvbpjXRfG"
      },
      "outputs": [],
      "source": [
        "train_images_as_output = train_images.reshape([-1, 28 * 28]).astype(np.float32)\n",
        "train_images_as_output.shape\n",
        "train_data = tf.data.Dataset.from_tensor_slices(train_images_as_output.astype(np.float32))\n",
        "train_data = train_data.shuffle(buffer_size=60000).batch(128,drop_remainder=True)"
      ]
    },
    {
      "cell_type": "code",
      "execution_count": null,
      "metadata": {
        "colab": {
          "base_uri": "https://localhost:8080/",
          "height": 265
        },
        "id": "LkosT-pUQozi",
        "outputId": "dfeb564d-cf98-44c9-8717-d35a5b3603d0"
      },
      "outputs": [
        {
          "data": {
            "image/png": "[encoded data removed]",
            "text/plain": [
              "<Figure size 432x288 with 1 Axes>"
            ]
          },
          "metadata": {
            "needs_background": "light",
            "tags": []
          },
          "output_type": "display_data"
        }
      ],
      "source": [
        "# you can use x_samples as a toy dataset to train your first flow!\n",
        "batch_size = 2048\n",
        "x2_dist = tfd.Normal(loc=0., scale=2.)\n",
        "x2_samples = x2_dist.sample(batch_size)\n",
        "x1 = tfd.Normal(loc=.5 * tf.square(x2_samples),\n",
        "                scale=tf.ones(batch_size, dtype=tf.float32))\n",
        "x1_samples = x1.sample()\n",
        "x_samples = tf.stack([x1_samples, x2_samples], axis=1)\n",
        "\n",
        "as_np = x_samples.numpy()\n",
        "plt.scatter(as_np[:, 0], as_np[:, 1])\n",
        "plt.show() "
      ]
    },
    {
      "cell_type": "code",
      "execution_count": null,
      "metadata": {
        "colab": {
          "base_uri": "https://localhost:8080/"
        },
        "id": "z_25vsBh_rhS",
        "outputId": "81f38139-8090-4655-d129-37998c519458"
      },
      "outputs": [
        {
          "data": {
            "text/plain": [
              "<tf.Tensor: shape=(2048, 2), dtype=float32, numpy=\n",
              "array([[ 3.499959  , -2.5687819 ],\n",
              "       [ 3.5913177 ,  2.13033   ],\n",
              "       [10.671287  ,  4.516391  ],\n",
              "       ...,\n",
              "       [ 0.78314865,  1.1094197 ],\n",
              "       [ 3.402577  ,  2.606371  ],\n",
              "       [ 2.0504384 ,  2.8179305 ]], dtype=float32)>"
            ]
          },
          "execution_count": 8,
          "metadata": {
            "tags": []
          },
          "output_type": "execute_result"
        }
      ],
      "source": [
        "x_samples"
      ]
    },
    {
      "cell_type": "code",
      "execution_count": null,
      "metadata": {
        "colab": {
          "base_uri": "https://localhost:8080/"
        },
        "id": "UD98-vtH_yFn",
        "outputId": "c88dbd36-e466-457a-b452-ea650836c874"
      },
      "outputs": [
        {
          "data": {
            "text/plain": [
              "<tf.Tensor: shape=(2048,), dtype=float32, numpy=\n",
              "array([ 3.499959  ,  3.5913177 , 10.671287  , ...,  0.78314865,\n",
              "        3.402577  ,  2.0504384 ], dtype=float32)>"
            ]
          },
          "execution_count": 9,
          "metadata": {
            "tags": []
          },
          "output_type": "execute_result"
        }
      ],
      "source": [
        "x1_samples"
      ]
    },
    {
      "cell_type": "code",
      "execution_count": null,
      "metadata": {
        "id": "rBHRo8yXX2gW"
      },
      "outputs": [],
      "source": [
        "def get_m():\n",
        "  inputs = tf.keras.Input(shape=(784,), name=\"digits\")\n",
        "  x = tf.keras.layers.Dense(64, activation=\"relu\")(inputs)\n",
        "  x = tf.keras.layers.Dense(128, activation=\"relu\")(x)\n",
        "  outputs = tf.keras.layers.Dense(784, name=\"predictions\")(x)\n",
        "  model = tf.keras.Model(inputs=inputs, outputs=outputs)\n",
        "  model.summary()\n",
        "  return model"
      ]
    },
    {
      "cell_type": "code",
      "execution_count": null,
      "metadata": {
        "colab": {
          "base_uri": "https://localhost:8080/"
        },
        "id": "yRXMi0BDZaIR",
        "outputId": "e02c942a-a2ce-483d-c3f8-7740bfaae20e"
      },
      "outputs": [
        {
          "name": "stdout",
          "output_type": "stream",
          "text": [
            "Model: \"model\"\n",
            "_________________________________________________________________\n",
            "Layer (type)                 Output Shape              Param #   \n",
            "=================================================================\n",
            "digits (InputLayer)          [(None, 784)]             0         \n",
            "_________________________________________________________________\n",
            "dense (Dense)                (None, 64)                50240     \n",
            "_________________________________________________________________\n",
            "dense_1 (Dense)              (None, 128)               8320      \n",
            "_________________________________________________________________\n",
            "predictions (Dense)          (None, 784)               101136    \n",
            "=================================================================\n",
            "Total params: 159,696\n",
            "Trainable params: 159,696\n",
            "Non-trainable params: 0\n",
            "_________________________________________________________________\n"
          ]
        }
      ],
      "source": [
        "model_mnist = get_m()"
      ]
    },
    {
      "cell_type": "code",
      "execution_count": null,
      "metadata": {
        "id": "PDn665YDQ62Q"
      },
      "outputs": [],
      "source": [
        "def get_model_m():\n",
        "  inputs = tf.keras.Input(shape=(1,), name=\"test\")\n",
        "  x = tf.keras.layers.Dense(64, activation=\"relu\")(inputs)\n",
        "  x = tf.keras.layers.Dense(128, activation=\"relu\")(x)\n",
        "  outputs = tf.keras.layers.Dense(1, name=\"predictions\")(x)\n",
        "  model = tf.keras.Model(inputs=inputs, outputs=outputs)\n",
        "  model.summary()\n",
        "  return model\n",
        "\n",
        "  return \n"
      ]
    },
    {
      "cell_type": "code",
      "execution_count": null,
      "metadata": {
        "id": "DO369KheupHK"
      },
      "outputs": [],
      "source": [
        "#dimension = (2048,1)#(2048,1)\n",
        "#dimension = (2, )"
      ]
    },
    {
      "cell_type": "code",
      "execution_count": null,
      "metadata": {
        "colab": {
          "base_uri": "https://localhost:8080/"
        },
        "id": "H84gO0PyrsMd",
        "outputId": "d79d3bc2-2a2d-4358-a1b8-2e34dadd204a"
      },
      "outputs": [
        {
          "name": "stdout",
          "output_type": "stream",
          "text": [
            "Model: \"model_1\"\n",
            "_________________________________________________________________\n",
            "Layer (type)                 Output Shape              Param #   \n",
            "=================================================================\n",
            "test (InputLayer)            [(None, 1)]               0         \n",
            "_________________________________________________________________\n",
            "dense_2 (Dense)              (None, 64)                128       \n",
            "_________________________________________________________________\n",
            "dense_3 (Dense)              (None, 128)               8320      \n",
            "_________________________________________________________________\n",
            "predictions (Dense)          (None, 1)                 129       \n",
            "=================================================================\n",
            "Total params: 8,577\n",
            "Trainable params: 8,577\n",
            "Non-trainable params: 0\n",
            "_________________________________________________________________\n"
          ]
        }
      ],
      "source": [
        "model_test = get_model_m()"
      ]
    },
    {
      "cell_type": "code",
      "execution_count": null,
      "metadata": {
        "colab": {
          "base_uri": "https://localhost:8080/"
        },
        "id": "iulCoMw_sJvE",
        "outputId": "e059a26f-75f6-4909-e0eb-454f0b74f5d9"
      },
      "outputs": [
        {
          "data": {
            "text/plain": [
              "TensorShape([2048, 2])"
            ]
          },
          "execution_count": 15,
          "metadata": {
            "tags": []
          },
          "output_type": "execute_result"
        }
      ],
      "source": [
        "x_samples.shape"
      ]
    },
    {
      "cell_type": "code",
      "execution_count": null,
      "metadata": {
        "colab": {
          "base_uri": "https://localhost:8080/"
        },
        "id": "MugLdg2aginx",
        "outputId": "d0f09513-ee81-4a37-a0b0-9f82d308c7ae"
      },
      "outputs": [
        {
          "data": {
            "text/plain": [
              "array([2048,    2], dtype=int32)"
            ]
          },
          "execution_count": 16,
          "metadata": {
            "tags": []
          },
          "output_type": "execute_result"
        }
      ],
      "source": [
        "tf.shape(x_samples).numpy()"
      ]
    },
    {
      "cell_type": "code",
      "execution_count": null,
      "metadata": {
        "colab": {
          "base_uri": "https://localhost:8080/"
        },
        "id": "LGJIrzfNb1QF",
        "outputId": "504d9662-e8dd-40c3-a928-0ef3a87817fe"
      },
      "outputs": [
        {
          "name": "stdout",
          "output_type": "stream",
          "text": [
            "(2048, 1)\n"
          ]
        }
      ],
      "source": [
        "x1,x2 = tf.split(x_samples, num_or_size_splits=2,axis=1)\n",
        "\n",
        "print(x1.shape)\n",
        "#x1 = tf.reshape(x1,[-1])\n",
        "#print(x1.shape)"
      ]
    },
    {
      "cell_type": "code",
      "execution_count": null,
      "metadata": {
        "colab": {
          "base_uri": "https://localhost:8080/"
        },
        "id": "FpK5mCsqQdtU",
        "outputId": "6603cf21-f055-42f0-e785-a447b591fa4b"
      },
      "outputs": [
        {
          "data": {
            "text/plain": [
              "TensorShape([2048, 1])"
            ]
          },
          "execution_count": 18,
          "metadata": {
            "tags": []
          },
          "output_type": "execute_result"
        }
      ],
      "source": [
        "x1.shape"
      ]
    },
    {
      "cell_type": "code",
      "execution_count": null,
      "metadata": {
        "colab": {
          "base_uri": "https://localhost:8080/"
        },
        "id": "8RLTu97kQK35",
        "outputId": "eabea26b-e2c1-45d8-80bc-015cb4fcfa02"
      },
      "outputs": [
        {
          "data": {
            "text/plain": [
              "<tf.Tensor: shape=(2048, 1), dtype=float32, numpy=\n",
              "array([[-0.3940155 ],\n",
              "       [-0.40430042],\n",
              "       [-1.2013434 ],\n",
              "       ...,\n",
              "       [-0.08816466],\n",
              "       [-0.3830525 ],\n",
              "       [-0.23083259]], dtype=float32)>"
            ]
          },
          "execution_count": 19,
          "metadata": {
            "tags": []
          },
          "output_type": "execute_result"
        }
      ],
      "source": [
        "y = model_test(x1)\n",
        "y"
      ]
    },
    {
      "cell_type": "code",
      "execution_count": null,
      "metadata": {
        "id": "ApSzsJmdmZNh"
      },
      "outputs": [],
      "source": [
        "def f_typeA(data,mod):\n",
        "  x1, x2 = tf.split(data,num_or_size_splits=2,axis=-1)\n",
        "\n",
        "  out1 = x1\n",
        "  out2 = x1 + mod(x2)\n",
        "\n",
        "  return tf.concat([out1,out2],axis=-1)"
      ]
    },
    {
      "cell_type": "code",
      "execution_count": null,
      "metadata": {
        "id": "rrWqddJ4oeZf"
      },
      "outputs": [],
      "source": [
        "def f_typeB(data,mod):\n",
        "\n",
        "  x1,x2 = tf.split(data,num_or_size_splits=2,axis=-1)\n",
        "\n",
        "  out1 = x1 + mod(x2)\n",
        "  out2 = x2\n",
        "\n",
        "  return tf.concat([out1,out2],axis=-1)\n"
      ]
    },
    {
      "cell_type": "code",
      "execution_count": null,
      "metadata": {
        "id": "NoH_irWkqTqu"
      },
      "outputs": [],
      "source": [
        "def b_typeA(data,mod):\n",
        "  x1, x2 = tf.split(data,num_or_size_splits=2,axis=-1)\n",
        "\n",
        "  out1 = x1\n",
        "  out2 = x1 - mod(x2)\n",
        "\n",
        "  return tf.concat([out1,out2],axis=-1)"
      ]
    },
    {
      "cell_type": "code",
      "execution_count": null,
      "metadata": {
        "id": "-Fh7rzLrqbG1"
      },
      "outputs": [],
      "source": [
        "def b_typeB(data,mod):\n",
        "\n",
        "  x1,x2 = tf.split(data,num_or_size_splits=2,axis=-1)\n",
        "\n",
        "  out1 = x1 - mod(x2)\n",
        "  out2 = x2\n",
        "\n",
        "  return tf.concat([out1,out2],axis=-1)"
      ]
    },
    {
      "cell_type": "code",
      "execution_count": null,
      "metadata": {
        "id": "kQvpUKPYk_Wo"
      },
      "outputs": [],
      "source": [
        "def forward(mod,data,num_layers=4):\n",
        "\n",
        "  for _ in range(num_layers):\n",
        "    data = f_typeA(data,mod)\n",
        "    data = f_typeB(data,mod)\n",
        "  \n",
        "  return data\n"
      ]
    },
    {
      "cell_type": "code",
      "execution_count": null,
      "metadata": {
        "id": "XJcAtcbLrZfw"
      },
      "outputs": [],
      "source": [
        "def backward(mod,data,num_layers=4):\n",
        "\n",
        "  for _ in range(num_layers):\n",
        "    data = b_typeA(data,mod)\n",
        "    data = b_typeB(data,mod)\n",
        "  \n",
        "  return data"
      ]
    },
    {
      "cell_type": "code",
      "execution_count": null,
      "metadata": {
        "colab": {
          "base_uri": "https://localhost:8080/"
        },
        "id": "wgrFKA1wtVnu",
        "outputId": "b70a5620-2b37-4169-cba9-5394826d51d3"
      },
      "outputs": [
        {
          "data": {
            "text/plain": [
              "<tf.Tensor: shape=(2048, 2), dtype=float32, numpy=\n",
              "array([[ 0., -6.],\n",
              "       [ 0., -2.],\n",
              "       [ 0., -6.],\n",
              "       ...,\n",
              "       [ 0.,  0.],\n",
              "       [ 0., -1.],\n",
              "       [ 0.,  1.]], dtype=float32)>"
            ]
          },
          "execution_count": 26,
          "metadata": {
            "tags": []
          },
          "output_type": "execute_result"
        }
      ],
      "source": [
        "tf.round(tf.subtract(x_samples, backward(model_test,forward(model_test,x_samples))))"
      ]
    },
    {
      "cell_type": "code",
      "execution_count": null,
      "metadata": {
        "colab": {
          "base_uri": "https://localhost:8080/"
        },
        "id": "2GOkCF04u8F8",
        "outputId": "51aa1abb-8a78-4e50-f2c3-5a422db4109e"
      },
      "outputs": [
        {
          "data": {
            "text/plain": [
              "<tf.Tensor: shape=(2048, 2), dtype=float32, numpy=\n",
              "array([[ 3.1820858 ,  2.8236027 ],\n",
              "       [ 3.2140162 ,  3.3514912 ],\n",
              "       [ 9.527182  , 10.162844  ],\n",
              "       ...,\n",
              "       [ 0.70904434,  0.6582533 ],\n",
              "       [ 3.0525565 ,  3.109159  ],\n",
              "       [ 1.8553193 ,  1.7332038 ]], dtype=float32)>"
            ]
          },
          "execution_count": 27,
          "metadata": {
            "tags": []
          },
          "output_type": "execute_result"
        }
      ],
      "source": [
        "forward(model_test,x_samples,1)"
      ]
    },
    {
      "cell_type": "code",
      "execution_count": null,
      "metadata": {
        "colab": {
          "base_uri": "https://localhost:8080/"
        },
        "id": "zYhzjyj4ISzj",
        "outputId": "cc501f78-0a2c-4406-d095-6e1976b73054"
      },
      "outputs": [
        {
          "data": {
            "text/plain": [
              "<tf.Tensor: shape=(2048, 2), dtype=float32, numpy=\n",
              "array([[ 3.9701169,  4.1763153],\n",
              "       [ 4.022617 ,  3.831144 ],\n",
              "       [11.929869 , 11.179729 ],\n",
              "       ...,\n",
              "       [ 0.8853737,  0.908044 ],\n",
              "       [ 3.8186617,  3.6959949],\n",
              "       [ 2.3169844,  2.367673 ]], dtype=float32)>"
            ]
          },
          "execution_count": 28,
          "metadata": {
            "tags": []
          },
          "output_type": "execute_result"
        }
      ],
      "source": [
        "backward(model_test,x_samples,1)"
      ]
    },
    {
      "cell_type": "code",
      "execution_count": null,
      "metadata": {
        "colab": {
          "base_uri": "https://localhost:8080/"
        },
        "id": "5RaCwSO0OF9H",
        "outputId": "462f9dbc-cd75-4f78-e2a1-cfdc043daa97"
      },
      "outputs": [
        {
          "data": {
            "text/plain": [
              "<tf.Tensor: shape=(2048, 2), dtype=float32, numpy=\n",
              "array([[ 3.5761013 ,  3.499959  ],\n",
              "       [ 3.6183167 ,  3.5913177 ],\n",
              "       [10.728525  , 10.671287  ],\n",
              "       ...,\n",
              "       [ 0.797209  ,  0.78314865],\n",
              "       [ 3.435609  ,  3.402577  ],\n",
              "       [ 2.0861518 ,  2.0504384 ]], dtype=float32)>"
            ]
          },
          "execution_count": 29,
          "metadata": {
            "tags": []
          },
          "output_type": "execute_result"
        }
      ],
      "source": [
        "x = backward(model_test,forward(model_test,x_samples,1),1)\n",
        "x"
      ]
    },
    {
      "cell_type": "code",
      "execution_count": null,
      "metadata": {
        "colab": {
          "base_uri": "https://localhost:8080/"
        },
        "id": "8OrfJDzDIajx",
        "outputId": "07113b16-9cbe-4448-a21d-d61ee92ddd4e"
      },
      "outputs": [
        {
          "data": {
            "text/plain": [
              "<tf.Tensor: shape=(2048, 2), dtype=float32, numpy=\n",
              "array([[ 3.499959  , -2.5687819 ],\n",
              "       [ 3.5913177 ,  2.13033   ],\n",
              "       [10.671287  ,  4.516391  ],\n",
              "       ...,\n",
              "       [ 0.78314865,  1.1094197 ],\n",
              "       [ 3.402577  ,  2.606371  ],\n",
              "       [ 2.0504384 ,  2.8179305 ]], dtype=float32)>"
            ]
          },
          "execution_count": 30,
          "metadata": {
            "tags": []
          },
          "output_type": "execute_result"
        }
      ],
      "source": [
        "x_samples"
      ]
    },
    {
      "cell_type": "code",
      "execution_count": null,
      "metadata": {
        "id": "KPHA8hpMOfg-"
      },
      "outputs": [],
      "source": [
        "t_sub = tf.reshape(tf.round(tf.subtract(x,x_samples)),[-1])"
      ]
    },
    {
      "cell_type": "code",
      "execution_count": null,
      "metadata": {
        "colab": {
          "base_uri": "https://localhost:8080/"
        },
        "id": "QofDvtIrRBu2",
        "outputId": "97704fa7-c9cc-4258-92c6-47b24146fa6e"
      },
      "outputs": [
        {
          "data": {
            "text/plain": [
              "<tf.Tensor: shape=(), dtype=int64, numpy=1608>"
            ]
          },
          "execution_count": 32,
          "metadata": {
            "tags": []
          },
          "output_type": "execute_result"
        }
      ],
      "source": [
        "tf.math.count_nonzero(t_sub)"
      ]
    },
    {
      "cell_type": "code",
      "execution_count": null,
      "metadata": {
        "id": "1-fUFUvCewOx"
      },
      "outputs": [],
      "source": [
        "#forward_optimizer = tf.keras.optimizers.Adam(0.0001)\n",
        "#backward_optimizer = tf.keras.optimizers.Adam(0.0001)\n",
        "optimizer = tf.keras.optimizers.Adam(0.0001)"
      ]
    },
    {
      "cell_type": "code",
      "execution_count": null,
      "metadata": {
        "id": "DADqbB1Lyy7C"
      },
      "outputs": [],
      "source": [
        "def train_steps(mod,num_steps,training_data,dims):\n",
        "\n",
        "  base_dist = tfd.MultivariateNormalDiag(tf.zeros(dims, tf.float32))\n",
        "  #for step, (x_batch_train) in enumerate(training_data):\n",
        "  step = 0\n",
        "  while step < num_steps:\n",
        "    with tf.GradientTape() as tape:\n",
        "      #print(training_data.shape)\n",
        "      h = forward(mod,training_data)\n",
        "      log_prob = base_dist.log_prob(h)\n",
        "      #print(log_prob.shape)\n",
        "      loss = - tf.reduce_mean(log_prob)\n",
        "\n",
        "      gradients = tape.gradient(loss, mod.trainable_variables)\n",
        "      #print(\"gradient: \",gradients)\n",
        "      #gradients_of_discriminator = disc_tape.gradient(disc_loss, discriminator.trainable_variables)\n",
        "\n",
        "      optimizer.apply_gradients(zip(gradients, mod.trainable_variables))\n",
        "      #discriminator_optimizer.apply_gradients(zip(gradients_of_discriminator, discriminator.trainable_variables))\n",
        "\n",
        "      step += 1\n",
        "\n",
        "      if step % 100 == 0:\n",
        "        print(\"Step:{} Loss:{}\".format(step,loss))\n"
      ]
    },
    {
      "cell_type": "code",
      "execution_count": null,
      "metadata": {
        "colab": {
          "base_uri": "https://localhost:8080/"
        },
        "id": "yjrdSeMMgrwB",
        "outputId": "7ff786d2-f06c-4314-9acc-7fce9b97f629"
      },
      "outputs": [
        {
          "data": {
            "text/plain": [
              "<tf.Tensor: shape=(2048, 2), dtype=float32, numpy=\n",
              "array([[2.3163912, 2.2883804],\n",
              "       [2.3441486, 2.314823 ],\n",
              "       [6.950729 , 6.863328 ],\n",
              "       ...,\n",
              "       [0.5164099, 0.5101082],\n",
              "       [2.2257195, 2.19802  ],\n",
              "       [1.3513601, 1.3348484]], dtype=float32)>"
            ]
          },
          "execution_count": 35,
          "metadata": {
            "tags": []
          },
          "output_type": "execute_result"
        }
      ],
      "source": [
        "h = forward(model_test,x_samples)\n",
        "h"
      ]
    },
    {
      "cell_type": "code",
      "execution_count": null,
      "metadata": {
        "colab": {
          "base_uri": "https://localhost:8080/"
        },
        "id": "66eVJ-29gm1t",
        "outputId": "8c534e59-997b-410e-d7a4-bd94626a714b"
      },
      "outputs": [
        {
          "name": "stdout",
          "output_type": "stream",
          "text": [
            "Model: \"model_1\"\n",
            "_________________________________________________________________\n",
            "Layer (type)                 Output Shape              Param #   \n",
            "=================================================================\n",
            "test (InputLayer)            [(None, 1)]               0         \n",
            "_________________________________________________________________\n",
            "dense_2 (Dense)              (None, 64)                128       \n",
            "_________________________________________________________________\n",
            "dense_3 (Dense)              (None, 128)               8320      \n",
            "_________________________________________________________________\n",
            "predictions (Dense)          (None, 1)                 129       \n",
            "=================================================================\n",
            "Total params: 8,577\n",
            "Trainable params: 8,577\n",
            "Non-trainable params: 0\n",
            "_________________________________________________________________\n"
          ]
        }
      ],
      "source": [
        "model_test.summary()"
      ]
    },
    {
      "cell_type": "code",
      "execution_count": null,
      "metadata": {
        "id": "yNa3gecub3iX"
      },
      "outputs": [],
      "source": [
        "#x_sample_data = tf.data.Dataset.from_tensor_slices(x_samples)\n",
        "#x_sample_data = train_data.shuffle(buffer_size=60000).batch(128,drop_remainder=True)"
      ]
    },
    {
      "cell_type": "code",
      "execution_count": null,
      "metadata": {
        "id": "G-9dc9Ci4rbg"
      },
      "outputs": [],
      "source": [
        "#tf.split(x_sample_data,num)\n",
        "#x1,x2 = tf.split(x_sample_data, num_or_size_splits=2,axis=1)\n",
        "#x1"
      ]
    },
    {
      "cell_type": "code",
      "execution_count": null,
      "metadata": {
        "colab": {
          "base_uri": "https://localhost:8080/"
        },
        "id": "WipowScmbW25",
        "outputId": "a1a6551c-9633-4187-aee4-a6d42e04d79a"
      },
      "outputs": [
        {
          "name": "stdout",
          "output_type": "stream",
          "text": [
            "Step:100 Loss:2.566383123397827\n",
            "Step:200 Loss:2.2195849418640137\n",
            "Step:300 Loss:2.217954158782959\n",
            "Step:400 Loss:2.217451810836792\n",
            "Step:500 Loss:2.217010259628296\n",
            "Step:600 Loss:2.216583728790283\n",
            "Step:700 Loss:2.2161502838134766\n",
            "Step:800 Loss:2.2156829833984375\n",
            "Step:900 Loss:2.21513032913208\n",
            "Step:1000 Loss:2.214433431625366\n",
            "Step:1100 Loss:2.212859630584717\n",
            "Step:1200 Loss:2.210726737976074\n",
            "Step:1300 Loss:2.2063939571380615\n",
            "Step:1400 Loss:2.2006397247314453\n",
            "Step:1500 Loss:2.192195415496826\n",
            "Step:1600 Loss:2.1788246631622314\n",
            "Step:1700 Loss:2.16025447845459\n",
            "Step:1800 Loss:2.1428515911102295\n",
            "Step:1900 Loss:2.1335251331329346\n",
            "Step:2000 Loss:2.1279382705688477\n",
            "Step:2100 Loss:2.124020576477051\n",
            "Step:2200 Loss:2.1215720176696777\n",
            "Step:2300 Loss:2.1199653148651123\n",
            "Step:2400 Loss:2.11820912361145\n",
            "Step:2500 Loss:2.1170263290405273\n",
            "Step:2600 Loss:2.109692096710205\n",
            "Step:2700 Loss:2.1027135848999023\n",
            "Step:2800 Loss:2.0970828533172607\n",
            "Step:2900 Loss:2.0922162532806396\n",
            "Step:3000 Loss:2.084989070892334\n",
            "Step:3100 Loss:2.077393054962158\n",
            "Step:3200 Loss:2.070601224899292\n",
            "Step:3300 Loss:2.0651626586914062\n",
            "Step:3400 Loss:2.0605506896972656\n",
            "Step:3500 Loss:2.0555341243743896\n",
            "Step:3600 Loss:2.051825523376465\n",
            "Step:3700 Loss:2.0489208698272705\n",
            "Step:3800 Loss:2.0468087196350098\n",
            "Step:3900 Loss:2.045259714126587\n",
            "Step:4000 Loss:2.043912649154663\n",
            "Step:4100 Loss:2.042721748352051\n",
            "Step:4200 Loss:2.0413410663604736\n",
            "Step:4300 Loss:2.0403990745544434\n",
            "Step:4400 Loss:2.0396931171417236\n",
            "Step:4500 Loss:2.0389063358306885\n",
            "Step:4600 Loss:2.0382041931152344\n",
            "Step:4700 Loss:2.037640333175659\n",
            "Step:4800 Loss:2.0369927883148193\n",
            "Step:4900 Loss:2.0363121032714844\n",
            "Step:5000 Loss:2.0355448722839355\n",
            "Step:5100 Loss:2.034977912902832\n",
            "Step:5200 Loss:2.0342934131622314\n",
            "Step:5300 Loss:2.0335853099823\n",
            "Step:5400 Loss:2.0329172611236572\n",
            "Step:5500 Loss:2.0323853492736816\n",
            "Step:5600 Loss:2.0316965579986572\n",
            "Step:5700 Loss:2.0311310291290283\n",
            "Step:5800 Loss:2.03074049949646\n",
            "Step:5900 Loss:2.0302951335906982\n",
            "Step:6000 Loss:2.030022144317627\n",
            "Step:6100 Loss:2.029646873474121\n",
            "Step:6200 Loss:2.0292978286743164\n",
            "Step:6300 Loss:2.028993606567383\n",
            "Step:6400 Loss:2.0289182662963867\n",
            "Step:6500 Loss:2.028637647628784\n",
            "Step:6600 Loss:2.0284841060638428\n",
            "Step:6700 Loss:2.028315544128418\n",
            "Step:6800 Loss:2.028031826019287\n",
            "Step:6900 Loss:2.027860641479492\n",
            "Step:7000 Loss:2.02767276763916\n",
            "Step:7100 Loss:2.027454376220703\n",
            "Step:7200 Loss:2.0273239612579346\n",
            "Step:7300 Loss:2.0271968841552734\n",
            "Step:7400 Loss:2.027125358581543\n",
            "Step:7500 Loss:2.026973009109497\n",
            "Step:7600 Loss:2.0269100666046143\n",
            "Step:7700 Loss:2.0268726348876953\n",
            "Step:7800 Loss:2.0268707275390625\n",
            "Step:7900 Loss:2.0267817974090576\n",
            "Step:8000 Loss:2.0267953872680664\n",
            "Step:8100 Loss:2.0266714096069336\n",
            "Step:8200 Loss:2.026596784591675\n",
            "Step:8300 Loss:2.026587963104248\n",
            "Step:8400 Loss:2.0264172554016113\n",
            "Step:8500 Loss:2.0260281562805176\n",
            "Step:8600 Loss:2.025874614715576\n",
            "Step:8700 Loss:2.0257949829101562\n",
            "Step:8800 Loss:2.0258259773254395\n",
            "Step:8900 Loss:2.02573823928833\n",
            "Step:9000 Loss:2.0257487297058105\n",
            "Step:9100 Loss:2.025667428970337\n",
            "Step:9200 Loss:2.025712251663208\n",
            "Step:9300 Loss:2.0256667137145996\n",
            "Step:9400 Loss:2.0255930423736572\n",
            "Step:9500 Loss:2.025696277618408\n",
            "Step:9600 Loss:2.0253052711486816\n",
            "Step:9700 Loss:2.024489164352417\n",
            "Step:9800 Loss:2.02327036857605\n",
            "Step:9900 Loss:2.0229461193084717\n",
            "Step:10000 Loss:2.0228018760681152\n"
          ]
        }
      ],
      "source": [
        "train_steps(model_test,10000,x_samples,dims=2)"
      ]
    },
    {
      "cell_type": "code",
      "execution_count": null,
      "metadata": {
        "id": "b5njhtQDbiJi"
      },
      "outputs": [],
      "source": []
    }
  ],
  "metadata": {
    "accelerator": "GPU",
    "colab": {
      "name": "Flow_based_Nice_Paper_9.ipynb",
      "provenance": []
    },
    "kernelspec": {
      "display_name": "Python 3",
      "name": "python3"
    },
    "language_info": {
      "name": "python"
    }
  },
  "nbformat": 4,
  "nbformat_minor": 0
}
